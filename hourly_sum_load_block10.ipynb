{
  "nbformat": 4,
  "nbformat_minor": 0,
  "metadata": {
    "colab": {
      "name": "hourly_sum_load_block10.ipynb",
      "provenance": [],
      "collapsed_sections": [],
      "mount_file_id": "1QCzPDmofq1kgV5NnUwXHViD-b955vzqo",
      "authorship_tag": "ABX9TyMy/vEotht1Z38h4muINkA/",
      "include_colab_link": true
    },
    "kernelspec": {
      "display_name": "Python 3",
      "name": "python3"
    },
    "language_info": {
      "name": "python"
    }
  },
  "cells": [
    {
      "cell_type": "markdown",
      "metadata": {
        "id": "view-in-github",
        "colab_type": "text"
      },
      "source": [
        "<a href=\"https://colab.research.google.com/github/hussien4/My-First-Project/blob/master/hourly_sum_load_block10.ipynb\" target=\"_parent\"><img src=\"https://colab.research.google.com/assets/colab-badge.svg\" alt=\"Open In Colab\"/></a>"
      ]
    },
    {
      "cell_type": "markdown",
      "metadata": {
        "id": "CzvLWc5_01St"
      },
      "source": [
        "# Run the model for Block 10"
      ]
    },
    {
      "cell_type": "code",
      "metadata": {
        "colab": {
          "base_uri": "https://localhost:8080/"
        },
        "id": "NoGyJHsFEKcw",
        "outputId": "4c65dfd5-1d44-4b10-bda8-d099f202e6fe"
      },
      "source": [
        "# innstall java\n",
        "!apt-get install openjdk-8-jdk-headless -qq > /dev/null\n",
        "\n",
        "# install spark (change the version number if needed)\n",
        "!wget -q https://archive.apache.org/dist/spark/spark-3.0.0/spark-3.0.0-bin-hadoop3.2.tgz\n",
        "\n",
        "# unzip the spark file to the current folder\n",
        "!tar xf spark-3.0.0-bin-hadoop3.2.tgz\n",
        "\n",
        "# set your spark folder to your system path environment. \n",
        "import os\n",
        "os.environ[\"JAVA_HOME\"] = \"/usr/lib/jvm/java-8-openjdk-amd64\"\n",
        "os.environ[\"SPARK_HOME\"] = \"/content/spark-3.0.0-bin-hadoop3.2\"\n",
        "\n",
        "\n",
        "# install findspark using pip\n",
        "!pip install -q findspark\n",
        "\n",
        "#For python users, you should also install pyspark using the following command.\n",
        "\n",
        "!pip install pyspark"
      ],
      "execution_count": 1,
      "outputs": [
        {
          "output_type": "stream",
          "name": "stdout",
          "text": [
            "Collecting pyspark\n",
            "  Downloading pyspark-3.2.0.tar.gz (281.3 MB)\n",
            "\u001b[K     |████████████████████████████████| 281.3 MB 37 kB/s \n",
            "\u001b[?25hCollecting py4j==0.10.9.2\n",
            "  Downloading py4j-0.10.9.2-py2.py3-none-any.whl (198 kB)\n",
            "\u001b[K     |████████████████████████████████| 198 kB 47.3 MB/s \n",
            "\u001b[?25hBuilding wheels for collected packages: pyspark\n",
            "  Building wheel for pyspark (setup.py) ... \u001b[?25l\u001b[?25hdone\n",
            "  Created wheel for pyspark: filename=pyspark-3.2.0-py2.py3-none-any.whl size=281805912 sha256=cae0272b82552a9f0f52c3e4f9b90246b327a06463f497b235b1f436dd6d0859\n",
            "  Stored in directory: /root/.cache/pip/wheels/0b/de/d2/9be5d59d7331c6c2a7c1b6d1a4f463ce107332b1ecd4e80718\n",
            "Successfully built pyspark\n",
            "Installing collected packages: py4j, pyspark\n",
            "Successfully installed py4j-0.10.9.2 pyspark-3.2.0\n"
          ]
        }
      ]
    },
    {
      "cell_type": "code",
      "metadata": {
        "id": "zhS3VA_jpI-7"
      },
      "source": [
        "import findspark\n",
        "findspark.init()"
      ],
      "execution_count": 2,
      "outputs": []
    },
    {
      "cell_type": "code",
      "metadata": {
        "id": "67rYws9QELqP"
      },
      "source": [
        "from google.colab import files\n",
        "from pyspark.sql import SparkSession\n",
        "from pyspark.ml.feature import VectorAssembler\n",
        "from pyspark.sql.functions import isnan, when, count, col, lit,to_date ,hour ,minute ,countDistinct\n",
        "from pyspark.ml.regression import RandomForestRegressor\n",
        "from pyspark.ml.evaluation import RegressionEvaluator\n",
        "from pyspark.ml import Pipeline\n",
        "from pyspark.ml.tuning import CrossValidator\n",
        "from pyspark.ml.evaluation import RegressionEvaluator\n",
        "from pyspark.ml.tuning import ParamGridBuilder\n",
        "from pyspark.ml.linalg import Vectors\n",
        "from pyspark.ml.feature import StandardScaler\n",
        "import pandas as pd \n",
        "import numpy as np \n",
        "import seaborn as sb \n",
        "%matplotlib inline\n",
        "import matplotlib.pyplot as plt "
      ],
      "execution_count": 3,
      "outputs": []
    },
    {
      "cell_type": "code",
      "metadata": {
        "id": "Vyx5HDrMEOX9"
      },
      "source": [
        "sc =SparkSession.builder.master(\"local\").getOrCreate()"
      ],
      "execution_count": 4,
      "outputs": []
    },
    {
      "cell_type": "code",
      "metadata": {
        "id": "wZrWUZjeERgN"
      },
      "source": [
        "df1 = sc.read.csv('/content/drive/MyDrive/block_10.csv/Master/literature 2020/microgrid modeling/datasets/london smart meters with weather/halfhourly_dataset/block_10.csv' , inferSchema = True ,header = True)"
      ],
      "execution_count": 5,
      "outputs": []
    },
    {
      "cell_type": "code",
      "metadata": {
        "id": "dlBwDTpnETqH"
      },
      "source": [
        "df1 = df1.withColumnRenamed(\"energy(kWh/hh)\",\"energy\")"
      ],
      "execution_count": 6,
      "outputs": []
    },
    {
      "cell_type": "code",
      "metadata": {
        "id": "qW7F_c6REWFK"
      },
      "source": [
        "df1 = df1.withColumn(\"energy\",df1[\"energy\"].cast(\"float\"))"
      ],
      "execution_count": 7,
      "outputs": []
    },
    {
      "cell_type": "code",
      "metadata": {
        "id": "LQwVMWQyEX9B"
      },
      "source": [
        "df1 = df1.filter(\"energy > 0\")"
      ],
      "execution_count": 8,
      "outputs": []
    },
    {
      "cell_type": "code",
      "metadata": {
        "id": "CZoRncjzEivm"
      },
      "source": [
        "df1 = df1.na.drop()"
      ],
      "execution_count": 9,
      "outputs": []
    },
    {
      "cell_type": "code",
      "metadata": {
        "id": "uOcvaEr2ElAV"
      },
      "source": [
        "df1 = df1.withColumn('date' ,to_date('tstp'))"
      ],
      "execution_count": 10,
      "outputs": []
    },
    {
      "cell_type": "code",
      "metadata": {
        "id": "nqpysxn6EncP"
      },
      "source": [
        "df1 = df1.withColumn('hour' ,hour('tstp'))"
      ],
      "execution_count": 11,
      "outputs": []
    },
    {
      "cell_type": "code",
      "metadata": {
        "id": "39zgNFltEqZa"
      },
      "source": [
        "df1 = df1.withColumn(\"minute\", minute(col(\"tstp\")))"
      ],
      "execution_count": 12,
      "outputs": []
    },
    {
      "cell_type": "code",
      "metadata": {
        "id": "1PqsxDMWEr8m"
      },
      "source": [
        "df1 = df1.filter(\"minute == 0\")"
      ],
      "execution_count": 13,
      "outputs": []
    },
    {
      "cell_type": "code",
      "metadata": {
        "colab": {
          "base_uri": "https://localhost:8080/"
        },
        "id": "KtwmpnilEt5g",
        "outputId": "62efa1be-9d62-4fbd-b347-51bcca7f230e"
      },
      "source": [
        "df1.show(1)"
      ],
      "execution_count": 14,
      "outputs": [
        {
          "output_type": "stream",
          "name": "stdout",
          "text": [
            "+---------+--------------------+------+----------+----+------+\n",
            "|    LCLid|                tstp|energy|      date|hour|minute|\n",
            "+---------+--------------------+------+----------+----+------+\n",
            "|MAC000322|2012-03-06 14:00:...|  0.06|2012-03-06|  14|     0|\n",
            "+---------+--------------------+------+----------+----+------+\n",
            "only showing top 1 row\n",
            "\n"
          ]
        }
      ]
    },
    {
      "cell_type": "code",
      "metadata": {
        "colab": {
          "base_uri": "https://localhost:8080/"
        },
        "id": "mXS4mNZTSlg2",
        "outputId": "312d71e2-b4c3-45a4-bf78-5d94ce6a83bf"
      },
      "source": [
        "df1.dtypes"
      ],
      "execution_count": 15,
      "outputs": [
        {
          "output_type": "execute_result",
          "data": {
            "text/plain": [
              "[('LCLid', 'string'),\n",
              " ('tstp', 'string'),\n",
              " ('energy', 'float'),\n",
              " ('date', 'date'),\n",
              " ('hour', 'int'),\n",
              " ('minute', 'int')]"
            ]
          },
          "metadata": {},
          "execution_count": 15
        }
      ]
    },
    {
      "cell_type": "code",
      "metadata": {
        "colab": {
          "base_uri": "https://localhost:8080/"
        },
        "id": "jYTxAVlKrSwp",
        "outputId": "eb886b2b-5de4-4618-ba60-201f2ab89ecd"
      },
      "source": [
        "df = pd.read_excel('/content/drive/MyDrive/Tariffs.xlsx')\n",
        "df_tariff = sc.createDataFrame(df)\n",
        "df_tariff.show(2)"
      ],
      "execution_count": 16,
      "outputs": [
        {
          "output_type": "stream",
          "name": "stdout",
          "text": [
            "+-------------------+------+\n",
            "|     TariffDateTime|Tariff|\n",
            "+-------------------+------+\n",
            "|2013-01-01 00:00:00|Normal|\n",
            "|2013-01-01 00:30:00|Normal|\n",
            "+-------------------+------+\n",
            "only showing top 2 rows\n",
            "\n"
          ]
        }
      ]
    },
    {
      "cell_type": "code",
      "metadata": {
        "id": "2xrAf_XErW5Z"
      },
      "source": [
        "from pyspark.sql.functions import *\n",
        "df1 = df1.withColumn('tstp0' ,to_timestamp('tstp'))"
      ],
      "execution_count": 17,
      "outputs": []
    },
    {
      "cell_type": "code",
      "metadata": {
        "id": "XJCTW675rdlg"
      },
      "source": [
        "df_joined = df1.join(df_tariff , df1['tstp0']==df_tariff['TariffDateTime'] ,how ='left')"
      ],
      "execution_count": 18,
      "outputs": []
    },
    {
      "cell_type": "code",
      "metadata": {
        "colab": {
          "base_uri": "https://localhost:8080/"
        },
        "id": "6ctDktuMrgb_",
        "outputId": "1bb74d91-ab50-4356-e79a-fe5b80d46bdf"
      },
      "source": [
        "df_joined.show(2)"
      ],
      "execution_count": 19,
      "outputs": [
        {
          "output_type": "stream",
          "name": "stdout",
          "text": [
            "+---------+--------------------+------+----------+----+------+-------------------+--------------+------+\n",
            "|    LCLid|                tstp|energy|      date|hour|minute|              tstp0|TariffDateTime|Tariff|\n",
            "+---------+--------------------+------+----------+----+------+-------------------+--------------+------+\n",
            "|MAC004959|2012-01-23 13:00:...| 0.652|2012-01-23|  13|     0|2012-01-23 13:00:00|          null|  null|\n",
            "|MAC004959|2012-01-28 02:00:...|  0.21|2012-01-28|   2|     0|2012-01-28 02:00:00|          null|  null|\n",
            "+---------+--------------------+------+----------+----+------+-------------------+--------------+------+\n",
            "only showing top 2 rows\n",
            "\n"
          ]
        }
      ]
    },
    {
      "cell_type": "code",
      "metadata": {
        "id": "MoDHN36erji7"
      },
      "source": [
        "df_joined2  = df_joined.where((df_joined.Tariff.isNull()) | (df_joined.Tariff =='Normal'))"
      ],
      "execution_count": 20,
      "outputs": []
    },
    {
      "cell_type": "code",
      "metadata": {
        "id": "Qiu8vnT9G1yE"
      },
      "source": [
        "df1 = df_joined"
      ],
      "execution_count": 21,
      "outputs": []
    },
    {
      "cell_type": "code",
      "metadata": {
        "id": "k5f_a_qwMKA8"
      },
      "source": [
        "df2 = df1.groupby(['hour','date']).sum()"
      ],
      "execution_count": 22,
      "outputs": []
    },
    {
      "cell_type": "code",
      "metadata": {
        "id": "kxFgRb9ENnf0"
      },
      "source": [
        "columns = ['sum(hour)','sum(minute)']\n",
        "for c in columns:\n",
        "  df2 = df2.drop(c)"
      ],
      "execution_count": 23,
      "outputs": []
    },
    {
      "cell_type": "code",
      "metadata": {
        "colab": {
          "base_uri": "https://localhost:8080/"
        },
        "id": "DyZZ9uO3OlkJ",
        "outputId": "3f9827f6-c3e6-4b7e-da81-ade18e192ca8"
      },
      "source": [
        "df2.show(1)"
      ],
      "execution_count": 24,
      "outputs": [
        {
          "output_type": "stream",
          "name": "stdout",
          "text": [
            "+----+----------+------------------+\n",
            "|hour|      date|       sum(energy)|\n",
            "+----+----------+------------------+\n",
            "|  18|2012-12-10|24.674999862909317|\n",
            "+----+----------+------------------+\n",
            "only showing top 1 row\n",
            "\n"
          ]
        }
      ]
    },
    {
      "cell_type": "code",
      "metadata": {
        "id": "BrCBdSz1Evo0"
      },
      "source": [
        "df_temp = df1.select(['date','LCLid','hour','Tariff','TariffDateTime'])"
      ],
      "execution_count": 25,
      "outputs": []
    },
    {
      "cell_type": "code",
      "metadata": {
        "id": "XxyWfhDUE7Qw"
      },
      "source": [
        "\n",
        "df_temp1 = df_temp.groupBy([\"date\",'hour','Tariff','TariffDateTime']).agg(countDistinct(\"LCLid\"))"
      ],
      "execution_count": 26,
      "outputs": []
    },
    {
      "cell_type": "code",
      "metadata": {
        "colab": {
          "base_uri": "https://localhost:8080/"
        },
        "id": "uq6JcH9fFDYH",
        "outputId": "e7830f87-086d-4f63-f3fd-e9edecfeddec"
      },
      "source": [
        "df_temp1.show(2)"
      ],
      "execution_count": 27,
      "outputs": [
        {
          "output_type": "stream",
          "name": "stdout",
          "text": [
            "+----------+----+------+-------------------+------------+\n",
            "|      date|hour|Tariff|     TariffDateTime|count(LCLid)|\n",
            "+----------+----+------+-------------------+------------+\n",
            "|2013-08-04|   9|Normal|2013-08-04 09:00:00|          44|\n",
            "|2013-05-24|  10|Normal|2013-05-24 10:00:00|          46|\n",
            "+----------+----+------+-------------------+------------+\n",
            "only showing top 2 rows\n",
            "\n"
          ]
        }
      ]
    },
    {
      "cell_type": "code",
      "metadata": {
        "id": "9EFXvM01Ozk0"
      },
      "source": [
        "df_temp1 = df_temp1.withColumnRenamed('date','date1')\n",
        "df_temp1 = df_temp1.withColumnRenamed('hour','hour1')"
      ],
      "execution_count": 28,
      "outputs": []
    },
    {
      "cell_type": "markdown",
      "metadata": {
        "id": "QpIfHUYxFdYb"
      },
      "source": [
        "## Join two dataframes\n",
        " sothat we can see the number of houses per hour per date "
      ]
    },
    {
      "cell_type": "code",
      "metadata": {
        "id": "0Y6VapzAFFNL"
      },
      "source": [
        "df22 = df2.join(df_temp1 , (df2['date']==df_temp1['date1']) & (df2['hour']==df_temp1['hour1']) , how = 'inner') "
      ],
      "execution_count": 29,
      "outputs": []
    },
    {
      "cell_type": "code",
      "metadata": {
        "colab": {
          "base_uri": "https://localhost:8080/"
        },
        "id": "N2IaViv9GLNv",
        "outputId": "41758447-da60-4e25-bf2c-4f3f86ce5bc0"
      },
      "source": [
        "df22.show(5)"
      ],
      "execution_count": 30,
      "outputs": [
        {
          "output_type": "stream",
          "name": "stdout",
          "text": [
            "+----+----------+------------------+----------+-----+------+-------------------+------------+\n",
            "|hour|      date|       sum(energy)|     date1|hour1|Tariff|     TariffDateTime|count(LCLid)|\n",
            "+----+----------+------------------+----------+-----+------+-------------------+------------+\n",
            "|   0|2012-03-13| 1.953999973833561|2012-03-13|    0|  null|               null|          10|\n",
            "|   0|2012-10-07| 8.006999982520938|2012-10-07|    0|  null|               null|          48|\n",
            "|   0|2013-03-11| 16.19999986514449|2013-03-11|    0|Normal|2013-03-11 00:00:00|          46|\n",
            "|   0|2013-03-13|13.637000050395727|2013-03-13|    0|Normal|2013-03-13 00:00:00|          46|\n",
            "|   0|2013-05-13|   6.4940000558272|2013-05-13|    0|Normal|2013-05-13 00:00:00|          47|\n",
            "+----+----------+------------------+----------+-----+------+-------------------+------------+\n",
            "only showing top 5 rows\n",
            "\n"
          ]
        }
      ]
    },
    {
      "cell_type": "code",
      "metadata": {
        "id": "iYjAA6_6FYTv"
      },
      "source": [
        "columns = ['date1' ,'hour1']\n",
        "for c in columns:\n",
        "  df1 = df22.drop(c)"
      ],
      "execution_count": 31,
      "outputs": []
    },
    {
      "cell_type": "code",
      "metadata": {
        "colab": {
          "base_uri": "https://localhost:8080/"
        },
        "id": "3KRcsyMBGdZd",
        "outputId": "de0fc001-9a69-4ca9-d84f-4bacc38a99d3"
      },
      "source": [
        "df1.show(2)"
      ],
      "execution_count": 32,
      "outputs": [
        {
          "output_type": "stream",
          "name": "stdout",
          "text": [
            "+----+----------+-----------------+----------+------+--------------+------------+\n",
            "|hour|      date|      sum(energy)|     date1|Tariff|TariffDateTime|count(LCLid)|\n",
            "+----+----------+-----------------+----------+------+--------------+------------+\n",
            "|   0|2012-03-13|1.953999973833561|2012-03-13|  null|          null|          10|\n",
            "|   0|2012-10-07|8.006999982520938|2012-10-07|  null|          null|          48|\n",
            "+----+----------+-----------------+----------+------+--------------+------------+\n",
            "only showing top 2 rows\n",
            "\n"
          ]
        }
      ]
    },
    {
      "cell_type": "code",
      "metadata": {
        "id": "dOuWLwMVP5Mc"
      },
      "source": [
        "df1 = df1.drop(\"date1\")\n",
        "df1 = df1.withColumnRenamed(\"count(DISTINCT LCLid)\" , \"count_houses\")"
      ],
      "execution_count": 33,
      "outputs": []
    },
    {
      "cell_type": "code",
      "metadata": {
        "colab": {
          "base_uri": "https://localhost:8080/"
        },
        "id": "GTK8LkdMGo86",
        "outputId": "a91a4870-d597-4b06-ad4a-2adec073bf11"
      },
      "source": [
        "df1.show(10)"
      ],
      "execution_count": 34,
      "outputs": [
        {
          "output_type": "stream",
          "name": "stdout",
          "text": [
            "+----+----------+------------------+------+-------------------+------------+\n",
            "|hour|      date|       sum(energy)|Tariff|     TariffDateTime|count(LCLid)|\n",
            "+----+----------+------------------+------+-------------------+------------+\n",
            "|   0|2012-03-13| 1.953999973833561|  null|               null|          10|\n",
            "|   0|2012-10-07| 8.006999982520938|  null|               null|          48|\n",
            "|   0|2013-03-11| 16.19999986514449|Normal|2013-03-11 00:00:00|          46|\n",
            "|   0|2013-03-13|13.637000050395727|Normal|2013-03-13 00:00:00|          46|\n",
            "|   0|2013-05-13|   6.4940000558272|Normal|2013-05-13 00:00:00|          47|\n",
            "|   1|2013-04-19| 7.598000023514032|Normal|2013-04-19 01:00:00|          46|\n",
            "|   1|2013-08-30| 6.488999990746379|Normal|2013-08-30 01:00:00|          45|\n",
            "|   2|2012-03-30|1.6830000057816505|  null|               null|          15|\n",
            "|   2|2012-07-27| 7.729000046849251|  null|               null|          49|\n",
            "|   2|2013-10-11| 8.058999938890338|Normal|2013-10-11 02:00:00|          44|\n",
            "+----+----------+------------------+------+-------------------+------------+\n",
            "only showing top 10 rows\n",
            "\n"
          ]
        }
      ]
    },
    {
      "cell_type": "code",
      "metadata": {
        "colab": {
          "base_uri": "https://localhost:8080/"
        },
        "id": "fZUz6HKmJumG",
        "outputId": "f26d4e57-c9f0-40bc-a1af-9dc850c85d3e"
      },
      "source": [
        "df1.count()"
      ],
      "execution_count": 35,
      "outputs": [
        {
          "output_type": "execute_result",
          "data": {
            "text/plain": [
              "18397"
            ]
          },
          "metadata": {},
          "execution_count": 35
        }
      ]
    },
    {
      "cell_type": "markdown",
      "metadata": {
        "id": "VDdZRCjwJ_ex"
      },
      "source": [
        "## Defining day and night column "
      ]
    },
    {
      "cell_type": "code",
      "metadata": {
        "id": "z0ZbRxMdJ59F"
      },
      "source": [
        "df_day = sc.read.csv('/content/drive/MyDrive/day_night.csv' , inferSchema = True ,header = True)"
      ],
      "execution_count": 36,
      "outputs": []
    },
    {
      "cell_type": "code",
      "metadata": {
        "id": "zQrZGVxQKEfn"
      },
      "source": [
        "df_day = df_day.withColumn('date3' , to_date(\"date\"))"
      ],
      "execution_count": 37,
      "outputs": []
    },
    {
      "cell_type": "code",
      "metadata": {
        "id": "ijchpqD1KHHE"
      },
      "source": [
        "df1 = df1.join(df_day , df1['date']==df_day['date3'], how ='inner'  )"
      ],
      "execution_count": 38,
      "outputs": []
    },
    {
      "cell_type": "code",
      "metadata": {
        "id": "_6lD-zpwKLKm"
      },
      "source": [
        "columns = ['sum(hour)' ,'_c0' ,'date2' ]\n",
        "for c in columns : \n",
        "  df1 = df1.drop(c)"
      ],
      "execution_count": 39,
      "outputs": []
    },
    {
      "cell_type": "code",
      "metadata": {
        "id": "yFP8I5XOKNMd"
      },
      "source": [
        "df1 = df1.withColumn('hour_rise' ,hour('sunriseTime'))\n",
        "df1 = df1.withColumn('hour_set' ,hour('sunsetTime'))"
      ],
      "execution_count": 40,
      "outputs": []
    },
    {
      "cell_type": "code",
      "metadata": {
        "id": "rhRkDITzKPW1"
      },
      "source": [
        "df1 = df1.withColumn('day_night'  ,\\\n",
        "                      when((col(\"hour\") > col(\"hour_rise\")) &( col(\"hour\") < col(\"hour_set\")),1)\\\n",
        "                      .when(  col(\"hour\") < 6 ,0)\\\n",
        "                     .otherwise(2))"
      ],
      "execution_count": 41,
      "outputs": []
    },
    {
      "cell_type": "code",
      "metadata": {
        "colab": {
          "base_uri": "https://localhost:8080/"
        },
        "id": "IXPcZSxwKRmk",
        "outputId": "71b25a53-7ee8-4403-d1eb-20258591ef97"
      },
      "source": [
        "df1.show(20)"
      ],
      "execution_count": 42,
      "outputs": [
        {
          "output_type": "stream",
          "name": "stdout",
          "text": [
            "+----+----------+------------------+------+-------------------+------------+-------------------+-------------------+----------+----------+---------+--------+---------+\n",
            "|hour|      date|       sum(energy)|Tariff|     TariffDateTime|count(LCLid)|        sunriseTime|         sunsetTime|      date|     date3|hour_rise|hour_set|day_night|\n",
            "+----+----------+------------------+------+-------------------+------------+-------------------+-------------------+----------+----------+---------+--------+---------+\n",
            "|   0|2012-03-13| 1.953999973833561|  null|               null|          10|2012-03-13 06:19:36|2012-03-13 18:02:47|2012-03-13|2012-03-13|        6|      18|        0|\n",
            "|   0|2012-10-07| 8.006999982520938|  null|               null|          48|2012-10-08 06:14:19|2012-10-08 17:23:46|2012-10-07|2012-10-07|        6|      17|        0|\n",
            "|   0|2013-03-11| 16.19999986514449|Normal|2013-03-11 00:00:00|          46|2013-03-11 06:24:44|2013-03-11 17:58:56|2013-03-11|2013-03-11|        6|      17|        0|\n",
            "|   0|2013-03-13|13.637000050395727|Normal|2013-03-13 00:00:00|          46|2013-03-13 06:20:12|2013-03-13 18:02:21|2013-03-13|2013-03-13|        6|      18|        0|\n",
            "|   0|2013-05-13|   6.4940000558272|Normal|2013-05-13 00:00:00|          47|2013-05-14 04:11:12|2013-05-14 19:45:06|2013-05-13|2013-05-13|        4|      19|        0|\n",
            "|   1|2013-04-19| 7.598000023514032|Normal|2013-04-19 01:00:00|          46|2013-04-20 04:54:56|2013-04-20 19:05:55|2013-04-19|2013-04-19|        4|      19|        0|\n",
            "|   1|2013-08-30| 6.488999990746379|Normal|2013-08-30 01:00:00|          45|2013-08-31 05:13:04|2013-08-31 18:51:27|2013-08-30|2013-08-30|        5|      18|        0|\n",
            "|   2|2012-03-30|1.6830000057816505|  null|               null|          15|2012-03-31 05:38:19|2012-03-31 18:32:57|2012-03-30|2012-03-30|        5|      18|        0|\n",
            "|   2|2012-07-27| 7.729000046849251|  null|               null|          49|2012-07-28 04:19:57|2012-07-28 19:56:16|2012-07-27|2012-07-27|        4|      19|        0|\n",
            "|   2|2013-10-11| 8.058999938890338|Normal|2013-10-11 02:00:00|          44|2013-10-12 06:20:34|2013-10-12 17:15:30|2013-10-11|2013-10-11|        6|      17|        0|\n",
            "|   3|2012-10-26| 6.387000052258372|  null|               null|          50|2012-10-27 06:46:56|2012-10-27 16:44:00|2012-10-26|2012-10-26|        6|      16|        0|\n",
            "|   3|2012-12-28|   5.9739999929443|  null|               null|          47|2012-12-28 08:07:22|2012-12-28 15:59:20|2012-12-28|2012-12-28|        8|      15|        0|\n",
            "|   3|2013-01-22| 9.786000065505505|Normal|2013-01-22 03:00:00|          46|2013-01-22 07:53:26|2013-01-22 16:32:57|2013-01-22|2013-01-22|        7|      16|        0|\n",
            "|   3|2013-02-21| 8.244000058621168|   Low|2013-02-21 03:00:00|          46|2013-02-21 07:03:44|2013-02-21 17:27:19|2013-02-21|2013-02-21|        7|      17|        0|\n",
            "|   3|2013-10-10| 6.554000036790967|Normal|2013-10-10 03:00:00|          44|2013-10-11 06:18:53|2013-10-11 17:17:42|2013-10-10|2013-10-10|        6|      17|        0|\n",
            "|   3|2013-11-29| 5.481999977491796|Normal|2013-11-29 03:00:00|          44|2013-11-29 07:42:35|2013-11-29 15:58:00|2013-11-29|2013-11-29|        7|      15|        0|\n",
            "|   4|2012-07-27| 7.244000039994717|  null|               null|          49|2012-07-28 04:19:57|2012-07-28 19:56:16|2012-07-27|2012-07-27|        4|      19|        0|\n",
            "|   4|2012-09-24|  6.78500003926456|  null|               null|          49|2012-09-25 05:53:09|2012-09-25 17:53:25|2012-09-24|2012-09-24|        5|      17|        0|\n",
            "|   4|2012-12-17| 6.389000006020069|  null|               null|          48|2012-12-17 08:02:53|2012-12-17 15:53:16|2012-12-17|2012-12-17|        8|      15|        0|\n",
            "|   4|2013-05-20| 6.647999957203865|Normal|2013-05-20 04:00:00|          46|2013-05-21 04:01:33|2013-05-21 19:55:25|2013-05-20|2013-05-20|        4|      19|        0|\n",
            "+----+----------+------------------+------+-------------------+------------+-------------------+-------------------+----------+----------+---------+--------+---------+\n",
            "only showing top 20 rows\n",
            "\n"
          ]
        }
      ]
    },
    {
      "cell_type": "code",
      "metadata": {
        "id": "KKyS3Vk0KbYA"
      },
      "source": [
        "columns = ['sunriseTime','sunsetTime','hour_rise','hour_set']\n",
        "for c in columns : \n",
        "  df1 = df1.drop(c)"
      ],
      "execution_count": 43,
      "outputs": []
    },
    {
      "cell_type": "code",
      "metadata": {
        "colab": {
          "base_uri": "https://localhost:8080/"
        },
        "id": "1SSbKeoQQk_t",
        "outputId": "371d2180-9065-4967-b5a2-842cdca226f1"
      },
      "source": [
        "df1.show(2)"
      ],
      "execution_count": 44,
      "outputs": [
        {
          "output_type": "stream",
          "name": "stdout",
          "text": [
            "+----+----------+-----------------+------+--------------+------------+----------+----------+---------+\n",
            "|hour|      date|      sum(energy)|Tariff|TariffDateTime|count(LCLid)|      date|     date3|day_night|\n",
            "+----+----------+-----------------+------+--------------+------------+----------+----------+---------+\n",
            "|   0|2012-03-13|1.953999973833561|  null|          null|          10|2012-03-13|2012-03-13|        0|\n",
            "|   0|2012-10-07|8.006999982520938|  null|          null|          48|2012-10-07|2012-10-07|        0|\n",
            "+----+----------+-----------------+------+--------------+------------+----------+----------+---------+\n",
            "only showing top 2 rows\n",
            "\n"
          ]
        }
      ]
    },
    {
      "cell_type": "markdown",
      "metadata": {
        "id": "cBkJmPulQpIO"
      },
      "source": [
        "## Add weather hourly"
      ]
    },
    {
      "cell_type": "code",
      "metadata": {
        "id": "mT6ZcWx8Kdp1"
      },
      "source": [
        "df_weather = sc.read.csv('/content/drive/MyDrive/weather_hourly_darksky.csv' , inferSchema = True ,header = True)"
      ],
      "execution_count": 45,
      "outputs": []
    },
    {
      "cell_type": "code",
      "metadata": {
        "id": "L40jDk4eKjbi"
      },
      "source": [
        "df_weather=df_weather.na.drop()"
      ],
      "execution_count": 46,
      "outputs": []
    },
    {
      "cell_type": "code",
      "metadata": {
        "id": "u3TAZT-FKuFf"
      },
      "source": [
        "df_weather =df_weather.withColumn(\"date2\" , to_date(\"time\"))"
      ],
      "execution_count": 47,
      "outputs": []
    },
    {
      "cell_type": "code",
      "metadata": {
        "id": "fzQrLJLIKw7b"
      },
      "source": [
        "df_weather =df_weather.withColumn(\"hour2\" , hour(\"time\"))"
      ],
      "execution_count": 48,
      "outputs": []
    },
    {
      "cell_type": "code",
      "metadata": {
        "id": "Cwc4eW43K7Ke"
      },
      "source": [
        "df_weather = df_weather.withColumnRenamed(\"time\" , \"time2\")"
      ],
      "execution_count": 49,
      "outputs": []
    },
    {
      "cell_type": "code",
      "metadata": {
        "id": "4YFesru9K9Te"
      },
      "source": [
        "df_temp =df1.join(df_weather , (df1['date3']==df_weather['date2']) & (df1['hour']==df_weather['hour2']), how ='inner')"
      ],
      "execution_count": 50,
      "outputs": []
    },
    {
      "cell_type": "code",
      "metadata": {
        "colab": {
          "base_uri": "https://localhost:8080/"
        },
        "id": "4WnJURjLLBkN",
        "outputId": "9b2eca22-e221-4156-fb96-0efb59e5e060"
      },
      "source": [
        "df_temp.show(5)"
      ],
      "execution_count": 51,
      "outputs": [
        {
          "output_type": "stream",
          "name": "stdout",
          "text": [
            "+----+----------+------------------+------+-------------------+------------+----------+----------+---------+----------+-----------+-----------+-------------------+--------+--------+-------------------+---------+----------+-------------------+--------+-------------+----------+-----+\n",
            "|hour|      date|       sum(energy)|Tariff|     TariffDateTime|count(LCLid)|      date|     date3|day_night|visibility|windBearing|temperature|              time2|dewPoint|pressure|apparentTemperature|windSpeed|precipType|               icon|humidity|      summary|     date2|hour2|\n",
            "+----+----------+------------------+------+-------------------+------------+----------+----------+---------+----------+-----------+-----------+-------------------+--------+--------+-------------------+---------+----------+-------------------+--------+-------------+----------+-----+\n",
            "|   0|2012-03-13| 1.953999973833561|  null|               null|          10|2012-03-13|2012-03-13|        0|      2.83|         62|       7.81|2012-03-13 00:00:00|    6.53| 1034.98|               7.24|     1.42|      rain|                fog|    0.92|        Foggy|2012-03-13|    0|\n",
            "|   0|2012-10-07| 8.006999982520938|  null|               null|          48|2012-10-07|2012-10-07|        0|      11.1|        289|       7.19|2012-10-07 00:00:00|    6.43| 1017.77|               7.19|     0.92|      rain|        clear-night|    0.95|        Clear|2012-10-07|    0|\n",
            "|   0|2013-03-11| 16.19999986514449|Normal|2013-03-11 00:00:00|          46|2013-03-11|2013-03-11|        0|     13.08|         46|       1.22|2013-03-11 00:00:00|   -2.26| 1007.16|              -4.11|     6.46|      rain|partly-cloudy-night|    0.78|Mostly Cloudy|2013-03-11|    0|\n",
            "|   0|2013-03-13|13.637000050395727|Normal|2013-03-13 00:00:00|          46|2013-03-13|2013-03-13|        0|     13.23|        322|       2.32|2013-03-13 00:00:00|   -0.16| 1009.49|              -0.74|     3.04|      rain|partly-cloudy-night|    0.84|Partly Cloudy|2013-03-13|    0|\n",
            "|   0|2013-05-13|   6.4940000558272|Normal|2013-05-13 00:00:00|          47|2013-05-13|2013-05-13|        0|     10.64|        241|      11.44|2013-05-13 00:00:00|   10.28| 1012.69|              11.44|      5.3|      rain|        clear-night|    0.93|        Clear|2013-05-13|    0|\n",
            "+----+----------+------------------+------+-------------------+------------+----------+----------+---------+----------+-----------+-----------+-------------------+--------+--------+-------------------+---------+----------+-------------------+--------+-------------+----------+-----+\n",
            "only showing top 5 rows\n",
            "\n"
          ]
        }
      ]
    },
    {
      "cell_type": "code",
      "metadata": {
        "id": "Q458jt75Rjwb"
      },
      "source": [
        "columns = ['windBearing','windSpeed','pressure'\n",
        "            ,'precipType' , 'icon' ,'summary' , \n",
        "            'visibility' ,'dewPoint' ,'apparentTemperature' ,'date' ,'hour' ]\n",
        "for c in columns : \n",
        "   df_temp =df_temp.drop(c)"
      ],
      "execution_count": 52,
      "outputs": []
    },
    {
      "cell_type": "code",
      "metadata": {
        "id": "gdjzEPNFLJtA"
      },
      "source": [
        "df = df_temp"
      ],
      "execution_count": 53,
      "outputs": []
    },
    {
      "cell_type": "code",
      "metadata": {
        "colab": {
          "base_uri": "https://localhost:8080/"
        },
        "id": "J719lm7xRi-w",
        "outputId": "ffc8cbf0-e670-457a-821d-9d821d007a9c"
      },
      "source": [
        "df.show(5)"
      ],
      "execution_count": 54,
      "outputs": [
        {
          "output_type": "stream",
          "name": "stdout",
          "text": [
            "+------------------+------+-------------------+------------+----------+---------+-----------+-------------------+--------+----------+-----+\n",
            "|       sum(energy)|Tariff|     TariffDateTime|count(LCLid)|     date3|day_night|temperature|              time2|humidity|     date2|hour2|\n",
            "+------------------+------+-------------------+------------+----------+---------+-----------+-------------------+--------+----------+-----+\n",
            "| 1.953999973833561|  null|               null|          10|2012-03-13|        0|       7.81|2012-03-13 00:00:00|    0.92|2012-03-13|    0|\n",
            "| 8.006999982520938|  null|               null|          48|2012-10-07|        0|       7.19|2012-10-07 00:00:00|    0.95|2012-10-07|    0|\n",
            "| 16.19999986514449|Normal|2013-03-11 00:00:00|          46|2013-03-11|        0|       1.22|2013-03-11 00:00:00|    0.78|2013-03-11|    0|\n",
            "|13.637000050395727|Normal|2013-03-13 00:00:00|          46|2013-03-13|        0|       2.32|2013-03-13 00:00:00|    0.84|2013-03-13|    0|\n",
            "|   6.4940000558272|Normal|2013-05-13 00:00:00|          47|2013-05-13|        0|      11.44|2013-05-13 00:00:00|    0.93|2013-05-13|    0|\n",
            "+------------------+------+-------------------+------------+----------+---------+-----------+-------------------+--------+----------+-----+\n",
            "only showing top 5 rows\n",
            "\n"
          ]
        }
      ]
    },
    {
      "cell_type": "markdown",
      "metadata": {
        "id": "J85oIJXALQEu"
      },
      "source": [
        "## Add bank holidays "
      ]
    },
    {
      "cell_type": "code",
      "metadata": {
        "id": "o2dOZvmFLPJ_"
      },
      "source": [
        "df_holi = sc.read.csv('/content/drive/MyDrive/uk_bank_holidays.csv',header=True,inferSchema=True)"
      ],
      "execution_count": 55,
      "outputs": []
    },
    {
      "cell_type": "code",
      "metadata": {
        "id": "wCvT2SUWLVQk"
      },
      "source": [
        "df_holi = df_holi.withColumn('date4' ,to_date('Bank holidays'))"
      ],
      "execution_count": 56,
      "outputs": []
    },
    {
      "cell_type": "code",
      "metadata": {
        "id": "mcZqHfAXSXry"
      },
      "source": [
        "df_temp = df.join(df_holi ,df['date3']==df_holi['date4'] , how ='outer')"
      ],
      "execution_count": 57,
      "outputs": []
    },
    {
      "cell_type": "code",
      "metadata": {
        "id": "Sh2EpBrwSs3v"
      },
      "source": [
        "df_temp = df_temp.withColumn('week_end',when(df_temp['date2']==df_temp['date4'],1).otherwise(0))"
      ],
      "execution_count": 58,
      "outputs": []
    },
    {
      "cell_type": "code",
      "metadata": {
        "id": "jRQgwXVZS6y4"
      },
      "source": [
        "from pyspark.sql.functions import date_trunc\n",
        "from pyspark.sql.functions import to_date ,hour\n",
        "from pyspark.sql.functions import isnan, when, count, col, lit\n",
        "from pyspark.sql.functions import date_format\n",
        "df_temp = df_temp.withColumn(\"week_day\", date_format(col(\"time2\"), \"E\"))"
      ],
      "execution_count": 59,
      "outputs": []
    },
    {
      "cell_type": "code",
      "metadata": {
        "id": "LmrnK8CUS9tX"
      },
      "source": [
        "df_temp = df_temp\\\n",
        ".withColumn(\"week_end\", when(col(\"week_day\") == \"Sat\",1)\\\n",
        "            .when(col(\"week_day\") ==\"Sun\",1).otherwise(0))"
      ],
      "execution_count": 60,
      "outputs": []
    },
    {
      "cell_type": "code",
      "metadata": {
        "colab": {
          "base_uri": "https://localhost:8080/"
        },
        "id": "1RwFYcqjTATQ",
        "outputId": "f3931293-d48b-48c1-f0ae-27715aeae8b3"
      },
      "source": [
        "df_temp.show(5)"
      ],
      "execution_count": 61,
      "outputs": [
        {
          "output_type": "stream",
          "name": "stdout",
          "text": [
            "+------------------+------+--------------+------------+----------+---------+-----------+-------------------+--------+----------+-----+-------------+----+-----+--------+--------+\n",
            "|       sum(energy)|Tariff|TariffDateTime|count(LCLid)|     date3|day_night|temperature|              time2|humidity|     date2|hour2|Bank holidays|Type|date4|week_end|week_day|\n",
            "+------------------+------+--------------+------------+----------+---------+-----------+-------------------+--------+----------+-----+-------------+----+-----+--------+--------+\n",
            "| 2.441000036895275|  null|          null|          16|2012-04-17|        1|      13.77|2012-04-17 14:00:00|    0.42|2012-04-17|   14|         null|null| null|       0|     Tue|\n",
            "|2.6650000158697367|  null|          null|          16|2012-04-17|        1|      10.96|2012-04-17 11:00:00|    0.75|2012-04-17|   11|         null|null| null|       0|     Tue|\n",
            "| 6.160000003874302|  null|          null|          16|2012-04-17|        2|       6.41|2012-04-17 20:00:00|    0.81|2012-04-17|   20|         null|null| null|       0|     Tue|\n",
            "|  4.70799995213747|  null|          null|          16|2012-04-17|        1|       9.16|2012-04-17 16:00:00|    0.75|2012-04-17|   16|         null|null| null|       0|     Tue|\n",
            "| 6.481999985873699|  null|          null|          16|2012-04-17|        1|       8.82|2012-04-17 18:00:00|    0.72|2012-04-17|   18|         null|null| null|       0|     Tue|\n",
            "+------------------+------+--------------+------------+----------+---------+-----------+-------------------+--------+----------+-----+-------------+----+-----+--------+--------+\n",
            "only showing top 5 rows\n",
            "\n"
          ]
        }
      ]
    },
    {
      "cell_type": "code",
      "metadata": {
        "id": "qbwM8g5nTD18"
      },
      "source": [
        "columns= ['time2','date2','date3','sum(hour)','time','date2','Bank holidays','Type','date4','week_day']\n",
        "for c in columns:\n",
        "  df_temp = df_temp.drop(c)"
      ],
      "execution_count": 62,
      "outputs": []
    },
    {
      "cell_type": "code",
      "metadata": {
        "colab": {
          "base_uri": "https://localhost:8080/"
        },
        "id": "9SHDPXFcVRyB",
        "outputId": "13574b7c-84d7-42c7-c8c3-6ef30397f437"
      },
      "source": [
        "df_temp.show(5)"
      ],
      "execution_count": 63,
      "outputs": [
        {
          "output_type": "stream",
          "name": "stdout",
          "text": [
            "+------------------+------+--------------+------------+---------+-----------+--------+-----+--------+\n",
            "|       sum(energy)|Tariff|TariffDateTime|count(LCLid)|day_night|temperature|humidity|hour2|week_end|\n",
            "+------------------+------+--------------+------------+---------+-----------+--------+-----+--------+\n",
            "| 2.441000036895275|  null|          null|          16|        1|      13.77|    0.42|   14|       0|\n",
            "|2.6650000158697367|  null|          null|          16|        1|      10.96|    0.75|   11|       0|\n",
            "| 6.160000003874302|  null|          null|          16|        2|       6.41|    0.81|   20|       0|\n",
            "|  4.70799995213747|  null|          null|          16|        1|       9.16|    0.75|   16|       0|\n",
            "| 6.481999985873699|  null|          null|          16|        1|       8.82|    0.72|   18|       0|\n",
            "+------------------+------+--------------+------------+---------+-----------+--------+-----+--------+\n",
            "only showing top 5 rows\n",
            "\n"
          ]
        }
      ]
    },
    {
      "cell_type": "code",
      "metadata": {
        "id": "ADLJ57bRVUmA"
      },
      "source": [
        "df= df_temp"
      ],
      "execution_count": 64,
      "outputs": []
    },
    {
      "cell_type": "code",
      "metadata": {
        "colab": {
          "base_uri": "https://localhost:8080/"
        },
        "id": "cRk01QTfu0N2",
        "outputId": "6be56ecf-8a11-44a2-b01e-0b31be75e28a"
      },
      "source": [
        "df.show(2)"
      ],
      "execution_count": 65,
      "outputs": [
        {
          "output_type": "stream",
          "name": "stdout",
          "text": [
            "+------------------+------+--------------+------------+---------+-----------+--------+-----+--------+\n",
            "|       sum(energy)|Tariff|TariffDateTime|count(LCLid)|day_night|temperature|humidity|hour2|week_end|\n",
            "+------------------+------+--------------+------------+---------+-----------+--------+-----+--------+\n",
            "| 2.441000036895275|  null|          null|          16|        1|      13.77|    0.42|   14|       0|\n",
            "|2.6650000158697367|  null|          null|          16|        1|      10.96|    0.75|   11|       0|\n",
            "+------------------+------+--------------+------------+---------+-----------+--------+-----+--------+\n",
            "only showing top 2 rows\n",
            "\n"
          ]
        }
      ]
    },
    {
      "cell_type": "code",
      "metadata": {
        "id": "WZ0H3vK-u4Co"
      },
      "source": [
        "## start to separate low , normal and null , high tariffs each in a separate dataset : \n",
        "## low \n",
        "df_low_tariff = df.filter(\"Tariff = 'Low'\")"
      ],
      "execution_count": 66,
      "outputs": []
    },
    {
      "cell_type": "code",
      "metadata": {
        "id": "aR-yfSkrvZk1"
      },
      "source": [
        "# high \n",
        "df_high_tariff = df.filter(\"Tariff = 'High'\")"
      ],
      "execution_count": 67,
      "outputs": []
    },
    {
      "cell_type": "code",
      "metadata": {
        "id": "4QuVrghLvZxh"
      },
      "source": [
        "# normal\n",
        "# df_joined2  = df_joined.where((df_joined.Tariff.isNull()) | (df_joined.Tariff =='Normal'))\n",
        "df = df.where((df.Tariff.isNull()) | (df.Tariff =='Normal'))"
      ],
      "execution_count": 68,
      "outputs": []
    },
    {
      "cell_type": "code",
      "metadata": {
        "colab": {
          "base_uri": "https://localhost:8080/"
        },
        "id": "DDmNFGtxwuh3",
        "outputId": "3927d370-40b8-4876-acce-c6c143c64b58"
      },
      "source": [
        "df.show(2)"
      ],
      "execution_count": 69,
      "outputs": [
        {
          "output_type": "stream",
          "name": "stdout",
          "text": [
            "+------------------+------+--------------+------------+---------+-----------+--------+-----+--------+\n",
            "|       sum(energy)|Tariff|TariffDateTime|count(LCLid)|day_night|temperature|humidity|hour2|week_end|\n",
            "+------------------+------+--------------+------------+---------+-----------+--------+-----+--------+\n",
            "| 2.441000036895275|  null|          null|          16|        1|      13.77|    0.42|   14|       0|\n",
            "|2.6650000158697367|  null|          null|          16|        1|      10.96|    0.75|   11|       0|\n",
            "+------------------+------+--------------+------------+---------+-----------+--------+-----+--------+\n",
            "only showing top 2 rows\n",
            "\n"
          ]
        }
      ]
    },
    {
      "cell_type": "code",
      "metadata": {
        "id": "fKgvRGlrwwoj"
      },
      "source": [
        "columns = ['Tariff','TariffDateTime']\n",
        "for c in columns: \n",
        "  df = df.drop(c)"
      ],
      "execution_count": 70,
      "outputs": []
    },
    {
      "cell_type": "code",
      "metadata": {
        "colab": {
          "base_uri": "https://localhost:8080/"
        },
        "id": "UzEmWwT0xUfQ",
        "outputId": "eafe1668-9409-4b9e-8f40-3fd95f5477d9"
      },
      "source": [
        "df.show(2)"
      ],
      "execution_count": 71,
      "outputs": [
        {
          "output_type": "stream",
          "name": "stdout",
          "text": [
            "+------------------+------------+---------+-----------+--------+-----+--------+\n",
            "|       sum(energy)|count(LCLid)|day_night|temperature|humidity|hour2|week_end|\n",
            "+------------------+------------+---------+-----------+--------+-----+--------+\n",
            "| 2.441000036895275|          16|        1|      13.77|    0.42|   14|       0|\n",
            "|2.6650000158697367|          16|        1|      10.96|    0.75|   11|       0|\n",
            "+------------------+------------+---------+-----------+--------+-----+--------+\n",
            "only showing top 2 rows\n",
            "\n"
          ]
        }
      ]
    },
    {
      "cell_type": "code",
      "metadata": {
        "colab": {
          "base_uri": "https://localhost:8080/"
        },
        "id": "0II3mYZBxWvS",
        "outputId": "c5d44306-74da-4af6-e5d8-a7165f1ca827"
      },
      "source": [
        "df.count()"
      ],
      "execution_count": 72,
      "outputs": [
        {
          "output_type": "execute_result",
          "data": {
            "text/plain": [
              "17168"
            ]
          },
          "metadata": {},
          "execution_count": 72
        }
      ]
    },
    {
      "cell_type": "code",
      "metadata": {
        "id": "sobrrbfDxYh1"
      },
      "source": [
        "df  =df.na.drop()"
      ],
      "execution_count": 73,
      "outputs": []
    },
    {
      "cell_type": "code",
      "metadata": {
        "colab": {
          "base_uri": "https://localhost:8080/"
        },
        "id": "zmVr2RRwxZHO",
        "outputId": "878deb40-5ed3-4abd-be5d-a57f45638fa1"
      },
      "source": [
        "df.count()"
      ],
      "execution_count": 74,
      "outputs": [
        {
          "output_type": "execute_result",
          "data": {
            "text/plain": [
              "17161"
            ]
          },
          "metadata": {},
          "execution_count": 74
        }
      ]
    },
    {
      "cell_type": "code",
      "metadata": {
        "id": "UCqulOgGVa7o"
      },
      "source": [
        "from pyspark.ml.feature import OneHotEncoder\n",
        "stages = []\n",
        "column_list = ['hour2' ,'week_end','day_night']\n",
        "for column in column_list :\n",
        "  encoder = OneHotEncoder(inputCol=column, outputCol=column+\"_encoded\")\n",
        "  stages.append(encoder)\n",
        "pipeline = Pipeline(stages = stages )\n",
        "df_encoded = pipeline.fit(df).transform(df)  "
      ],
      "execution_count": 75,
      "outputs": []
    },
    {
      "cell_type": "code",
      "metadata": {
        "colab": {
          "base_uri": "https://localhost:8080/"
        },
        "id": "ddZktByYVfN8",
        "outputId": "eab8cd41-cb9b-465d-b3c0-b6fcacd5b793"
      },
      "source": [
        "from pyspark.ml.linalg import Vectors\n",
        "from pyspark.ml.feature import VectorAssembler\n",
        "vector_assembler = VectorAssembler(inputCols = ['hour2_encoded','temperature' ,'humidity','week_end_encoded','day_night_encoded','count(LCLid)'] \n",
        "                                   ,outputCol = 'features_vector')\n",
        "df = vector_assembler.transform(df_encoded)\n",
        "df.show(3)"
      ],
      "execution_count": 76,
      "outputs": [
        {
          "output_type": "stream",
          "name": "stdout",
          "text": [
            "+-----------------+------------+---------+-----------+--------+-----+--------+--------------+----------------+-----------------+--------------------+\n",
            "|      sum(energy)|count(LCLid)|day_night|temperature|humidity|hour2|week_end| hour2_encoded|week_end_encoded|day_night_encoded|     features_vector|\n",
            "+-----------------+------------+---------+-----------+--------+-----+--------+--------------+----------------+-----------------+--------------------+\n",
            "|1.953999973833561|          10|        0|       7.81|    0.92|    0|       0|(23,[0],[1.0])|   (1,[0],[1.0])|    (2,[0],[1.0])|(29,[0,23,24,25,2...|\n",
            "|8.006999982520938|          48|        0|       7.19|    0.95|    0|       1|(23,[0],[1.0])|       (1,[],[])|    (2,[0],[1.0])|(29,[0,23,24,26,2...|\n",
            "|16.19999986514449|          46|        0|       1.22|    0.78|    0|       0|(23,[0],[1.0])|   (1,[0],[1.0])|    (2,[0],[1.0])|(29,[0,23,24,25,2...|\n",
            "+-----------------+------------+---------+-----------+--------+-----+--------+--------------+----------------+-----------------+--------------------+\n",
            "only showing top 3 rows\n",
            "\n"
          ]
        }
      ]
    },
    {
      "cell_type": "code",
      "metadata": {
        "colab": {
          "base_uri": "https://localhost:8080/"
        },
        "id": "2PTi7uBBX0tR",
        "outputId": "7630380d-7adb-46dd-fb2a-993a3569de16"
      },
      "source": [
        "df.count()"
      ],
      "execution_count": 77,
      "outputs": [
        {
          "output_type": "execute_result",
          "data": {
            "text/plain": [
              "17161"
            ]
          },
          "metadata": {},
          "execution_count": 77
        }
      ]
    },
    {
      "cell_type": "code",
      "metadata": {
        "id": "RAQvU3Soifcm"
      },
      "source": [
        "from pyspark.ml import Pipeline\n",
        "# expansion parameters \n",
        "from pyspark.ml.feature import PolynomialExpansion\n",
        "poly = PolynomialExpansion(inputCol='features_vector', outputCol='poly_features')\n",
        "df = poly.transform(df)"
      ],
      "execution_count": 78,
      "outputs": []
    },
    {
      "cell_type": "code",
      "metadata": {
        "id": "WXdsW9Q6i6y2"
      },
      "source": [
        "ss = StandardScaler(withMean=True, withStd=True, inputCol='poly_features' , outputCol='poly_features_scaled')"
      ],
      "execution_count": 79,
      "outputs": []
    },
    {
      "cell_type": "code",
      "metadata": {
        "id": "VO3nU27ui0ok"
      },
      "source": [
        "df =ss.fit(df).transform(df)"
      ],
      "execution_count": 80,
      "outputs": []
    },
    {
      "cell_type": "code",
      "metadata": {
        "colab": {
          "base_uri": "https://localhost:8080/"
        },
        "id": "Kg2YAl4wl7AQ",
        "outputId": "ee75b4b5-a7e8-477e-bd05-4e27399dea54"
      },
      "source": [
        "df.show(2)"
      ],
      "execution_count": 81,
      "outputs": [
        {
          "output_type": "stream",
          "name": "stdout",
          "text": [
            "+-----------------+------------+---------+-----------+--------+-----+--------+--------------+----------------+-----------------+--------------------+--------------------+--------------------+\n",
            "|      sum(energy)|count(LCLid)|day_night|temperature|humidity|hour2|week_end| hour2_encoded|week_end_encoded|day_night_encoded|     features_vector|       poly_features|poly_features_scaled|\n",
            "+-----------------+------------+---------+-----------+--------+-----+--------+--------------+----------------+-----------------+--------------------+--------------------+--------------------+\n",
            "|1.953999973833561|          10|        0|       7.81|    0.92|    0|       0|(23,[0],[1.0])|   (1,[0],[1.0])|    (2,[0],[1.0])|(29,[0,23,24,25,2...|(464,[0,1,299,300...|[4.79234167381561...|\n",
            "|8.006999982520938|          48|        0|       7.19|    0.95|    0|       1|(23,[0],[1.0])|       (1,[],[])|    (2,[0],[1.0])|(29,[0,23,24,26,2...|(464,[0,1,299,300...|[4.79234167381561...|\n",
            "+-----------------+------------+---------+-----------+--------+-----+--------+--------------+----------------+-----------------+--------------------+--------------------+--------------------+\n",
            "only showing top 2 rows\n",
            "\n"
          ]
        }
      ]
    },
    {
      "cell_type": "code",
      "metadata": {
        "id": "RhUDiL-CXng2"
      },
      "source": [
        "df_train,df_test = df.randomSplit([0.8,0.2])"
      ],
      "execution_count": 82,
      "outputs": []
    },
    {
      "cell_type": "code",
      "metadata": {
        "colab": {
          "base_uri": "https://localhost:8080/"
        },
        "id": "Q6iWeaB-wFf9",
        "outputId": "f94adec5-61be-4ce9-96fe-9ba9679d0442"
      },
      "source": [
        "df_train.show(2)"
      ],
      "execution_count": 83,
      "outputs": [
        {
          "output_type": "stream",
          "name": "stdout",
          "text": [
            "+-------------------+------------+---------+-----------+--------+-----+--------+---------------+----------------+-----------------+--------------------+--------------------+--------------------+\n",
            "|        sum(energy)|count(LCLid)|day_night|temperature|humidity|hour2|week_end|  hour2_encoded|week_end_encoded|day_night_encoded|     features_vector|       poly_features|poly_features_scaled|\n",
            "+-------------------+------------+---------+-----------+--------+-----+--------+---------------+----------------+-----------------+--------------------+--------------------+--------------------+\n",
            "|0.24300000071525574|           1|        1|       5.78|     0.8|   13|       1|(23,[13],[1.0])|       (1,[],[])|    (2,[1],[1.0])|(29,[13,23,24,27,...|(464,[104,118,299...|[-0.2086540978079...|\n",
            "| 1.6830000057816505|          15|        0|       9.29|    0.76|    2|       0| (23,[2],[1.0])|   (1,[0],[1.0])|    (2,[0],[1.0])|(29,[2,23,24,25,2...|(464,[5,8,299,302...|[-0.2086540978079...|\n",
            "+-------------------+------------+---------+-----------+--------+-----+--------+---------------+----------------+-----------------+--------------------+--------------------+--------------------+\n",
            "only showing top 2 rows\n",
            "\n"
          ]
        }
      ]
    },
    {
      "cell_type": "code",
      "metadata": {
        "colab": {
          "base_uri": "https://localhost:8080/"
        },
        "id": "XZXM46ayUol1",
        "outputId": "81ca3f01-7533-4ba0-e2ce-816b2db6bd35"
      },
      "source": [
        "dropped_col = ['count(LCLid)','day_night','temperature','humidity','week_end','hour2_encoded','week_end_encoded','day_night_encoded','hour2','features_vector','poly_features']\n",
        "for c in dropped_col:\n",
        "  df_train = df_train.drop(c)\n",
        "df_train.show(2)  "
      ],
      "execution_count": 84,
      "outputs": [
        {
          "output_type": "stream",
          "name": "stdout",
          "text": [
            "+-------------------+--------------------+\n",
            "|        sum(energy)|poly_features_scaled|\n",
            "+-------------------+--------------------+\n",
            "|0.24300000071525574|[-0.2086540978079...|\n",
            "| 1.6830000057816505|[-0.2086540978079...|\n",
            "+-------------------+--------------------+\n",
            "only showing top 2 rows\n",
            "\n"
          ]
        }
      ]
    },
    {
      "cell_type": "markdown",
      "metadata": {
        "id": "ISxqRJMIaiyh"
      },
      "source": [
        "### Plain MLR "
      ]
    },
    {
      "cell_type": "code",
      "metadata": {
        "id": "kNDukQDaaluY"
      },
      "source": [
        "from pyspark.ml.regression import LinearRegression\n",
        "# elasticnetparam = 0 --> ridge regression (L2 penalty )\n",
        "lr =LinearRegression( featuresCol='poly_features_scaled', labelCol='sum(energy)',elasticNetParam=0)"
      ],
      "execution_count": 85,
      "outputs": []
    },
    {
      "cell_type": "code",
      "metadata": {
        "id": "9c-FBv05bSrj"
      },
      "source": [
        "pipeline = Pipeline(stages = [lr])"
      ],
      "execution_count": null,
      "outputs": []
    },
    {
      "cell_type": "code",
      "metadata": {
        "id": "MUASkYRrbVPN"
      },
      "source": [
        "pipeline.write().overwrite().save(\"pipeline\")\n",
        "pipelineModel = Pipeline.load(\"pipeline\")"
      ],
      "execution_count": null,
      "outputs": []
    },
    {
      "cell_type": "code",
      "metadata": {
        "id": "6TDA7rpKbXd4"
      },
      "source": [
        "from pyspark.ml.tuning import ParamGridBuilder\n",
        "paramGrid =  ParamGridBuilder().build()"
      ],
      "execution_count": null,
      "outputs": []
    },
    {
      "cell_type": "code",
      "metadata": {
        "id": "W7V5XMbBbgPJ"
      },
      "source": [
        "from pyspark.ml.evaluation import RegressionEvaluator\n",
        "evaluator = RegressionEvaluator(predictionCol='prediction', labelCol='sum(energy)', metricName='r2')"
      ],
      "execution_count": null,
      "outputs": []
    },
    {
      "cell_type": "code",
      "metadata": {
        "id": "TBpiEKaSbjwk"
      },
      "source": [
        "crossval = CrossValidator(estimator=pipelineModel,\n",
        "                          estimatorParamMaps=paramGrid,\n",
        "                          evaluator=evaluator,\n",
        "                          numFolds=2 ,collectSubModels=True)"
      ],
      "execution_count": null,
      "outputs": []
    },
    {
      "cell_type": "code",
      "metadata": {
        "id": "1gdhYqNjbnez"
      },
      "source": [
        "cvmodel = crossval.fit(df_train)"
      ],
      "execution_count": null,
      "outputs": []
    },
    {
      "cell_type": "code",
      "metadata": {
        "colab": {
          "base_uri": "https://localhost:8080/"
        },
        "id": "TZbGqcBwbszk",
        "outputId": "2352e5ac-b859-413b-f949-36f07528c2b1"
      },
      "source": [
        "cvmodel.avgMetrics"
      ],
      "execution_count": null,
      "outputs": [
        {
          "output_type": "execute_result",
          "data": {
            "text/plain": [
              "[0.9018560358586698]"
            ]
          },
          "metadata": {},
          "execution_count": 148
        }
      ]
    },
    {
      "cell_type": "code",
      "metadata": {
        "colab": {
          "base_uri": "https://localhost:8080/",
          "height": 279
        },
        "id": "O2Jy6Z_9ehy_",
        "outputId": "1959dd8d-3e25-4c72-f793-df9f205458a6"
      },
      "source": [
        "#degree =[1,2]\n",
        "import pandas as pd \n",
        "import numpy as np \n",
        "import seaborn as sb \n",
        "%matplotlib inline\n",
        "import matplotlib.pyplot as plt \n",
        "#plt.xscale('log')\n",
        "plt.xlabel(\"Degree\" ,fontsize = 10 )\n",
        "plt.ylabel(\"R2 Metric\" ,fontsize = 10 )\n",
        "plt.xticks(ticks = [1,2,3],fontsize = 10 ,fontweight= 500 )\n",
        "plt.yticks(fontsize = 10,fontweight= 500) \n",
        "#ax = figure.add_subplot(111)\n",
        "plt.plot(degree ,cvmodel.avgMetrics , '-o')\n",
        "from google.colab import files\n",
        "plt.savefig(\"Plain MLR.png\")\n",
        "files.download(\"Plain MLR.png\")"
      ],
      "execution_count": null,
      "outputs": [
        {
          "data": {
            "application/javascript": [
              "\n",
              "    async function download(id, filename, size) {\n",
              "      if (!google.colab.kernel.accessAllowed) {\n",
              "        return;\n",
              "      }\n",
              "      const div = document.createElement('div');\n",
              "      const label = document.createElement('label');\n",
              "      label.textContent = `Downloading \"${filename}\": `;\n",
              "      div.appendChild(label);\n",
              "      const progress = document.createElement('progress');\n",
              "      progress.max = size;\n",
              "      div.appendChild(progress);\n",
              "      document.body.appendChild(div);\n",
              "\n",
              "      const buffers = [];\n",
              "      let downloaded = 0;\n",
              "\n",
              "      const channel = await google.colab.kernel.comms.open(id);\n",
              "      // Send a message to notify the kernel that we're ready.\n",
              "      channel.send({})\n",
              "\n",
              "      for await (const message of channel.messages) {\n",
              "        // Send a message to notify the kernel that we're ready.\n",
              "        channel.send({})\n",
              "        if (message.buffers) {\n",
              "          for (const buffer of message.buffers) {\n",
              "            buffers.push(buffer);\n",
              "            downloaded += buffer.byteLength;\n",
              "            progress.value = downloaded;\n",
              "          }\n",
              "        }\n",
              "      }\n",
              "      const blob = new Blob(buffers, {type: 'application/binary'});\n",
              "      const a = document.createElement('a');\n",
              "      a.href = window.URL.createObjectURL(blob);\n",
              "      a.download = filename;\n",
              "      div.appendChild(a);\n",
              "      a.click();\n",
              "      div.remove();\n",
              "    }\n",
              "  "
            ],
            "text/plain": [
              "<IPython.core.display.Javascript object>"
            ]
          },
          "metadata": {},
          "output_type": "display_data"
        },
        {
          "data": {
            "application/javascript": [
              "download(\"download_8e831cbf-4829-4aa1-811a-60887f23bc89\", \"Plain MLR.png\", 12856)"
            ],
            "text/plain": [
              "<IPython.core.display.Javascript object>"
            ]
          },
          "metadata": {},
          "output_type": "display_data"
        },
        {
          "data": {
            "image/png": "[encoded data removed]",
            "text/plain": [
              "<Figure size 432x288 with 1 Axes>"
            ]
          },
          "metadata": {},
          "output_type": "display_data"
        }
      ]
    },
    {
      "cell_type": "markdown",
      "metadata": {
        "id": "W4z4kw7SC04U"
      },
      "source": [
        "#### Testing Plain MLR "
      ]
    },
    {
      "cell_type": "code",
      "metadata": {
        "id": "x8Jk8GqUzwfs"
      },
      "source": [
        "pred = cvmodel.transform(df_test)"
      ],
      "execution_count": null,
      "outputs": []
    },
    {
      "cell_type": "code",
      "metadata": {
        "id": "qvYbHwGkz6yr"
      },
      "source": [
        "eval =RegressionEvaluator(labelCol=\"sum(energy)\")\n",
        "r2 = eval.evaluate(pred,{eval.metricName:\"r2\"})"
      ],
      "execution_count": null,
      "outputs": []
    },
    {
      "cell_type": "code",
      "metadata": {
        "id": "hZfFnJqF0HZn",
        "colab": {
          "base_uri": "https://localhost:8080/"
        },
        "outputId": "04874a42-a1fb-477c-98d3-4738d0586343"
      },
      "source": [
        "r2"
      ],
      "execution_count": null,
      "outputs": [
        {
          "output_type": "execute_result",
          "data": {
            "text/plain": [
              "0.8946444091488525"
            ]
          },
          "metadata": {},
          "execution_count": 91
        }
      ]
    },
    {
      "cell_type": "markdown",
      "metadata": {
        "id": "d4mfuNu5RJfM"
      },
      "source": [
        "### Lasso Regression "
      ]
    },
    {
      "cell_type": "code",
      "metadata": {
        "id": "x0Pjr8vRS7cC"
      },
      "source": [
        "from pyspark.ml.regression import LinearRegression\n",
        "# elasticnetparam = 0 --> ridge regression (L2 penalty )\n",
        "lr =LinearRegression( featuresCol='poly_features_scaled', labelCol='sum(energy)',elasticNetParam=1)"
      ],
      "execution_count": 86,
      "outputs": []
    },
    {
      "cell_type": "code",
      "metadata": {
        "id": "RtgZhlcYT-l_"
      },
      "source": [
        "pipeline = Pipeline(stages = [lr])"
      ],
      "execution_count": 87,
      "outputs": []
    },
    {
      "cell_type": "code",
      "metadata": {
        "id": "mdv7RggUT_tt"
      },
      "source": [
        "pipeline.write().overwrite().save(\"pipeline\")\n",
        "pipelineModel = Pipeline.load(\"pipeline\")"
      ],
      "execution_count": 88,
      "outputs": []
    },
    {
      "cell_type": "code",
      "metadata": {
        "id": "klhL1kxBUEIP"
      },
      "source": [
        "# elasticNetParam = Param(parent='undefined', name='elasticNetParam', \n",
        "#doc='the ElasticNet mixing parameter, in range [0, 1]. For alpha = 0, \n",
        "#the penalty is an L2 penalty (ridge). For alpha = 1, it is an L1 penalty. (lasso)')\n",
        "from pyspark.ml.tuning import ParamGridBuilder\n",
        "paramGrid =  ParamGridBuilder().addGrid(lr.regParam, [1,0.1,0.01,0.001,0.0001,0.00001]).build()"
      ],
      "execution_count": 89,
      "outputs": []
    },
    {
      "cell_type": "code",
      "metadata": {
        "id": "qYyiGpayWJmv"
      },
      "source": [
        "from pyspark.ml.evaluation import RegressionEvaluator\n",
        "evaluator = RegressionEvaluator(predictionCol='prediction', labelCol='sum(energy)', metricName='r2')"
      ],
      "execution_count": 90,
      "outputs": []
    },
    {
      "cell_type": "code",
      "metadata": {
        "id": "cm0JM6QoUKTD"
      },
      "source": [
        "crossval = CrossValidator(estimator=pipelineModel,\n",
        "                          estimatorParamMaps=paramGrid,\n",
        "                          evaluator=evaluator,\n",
        "                          numFolds=2 ,collectSubModels=True)"
      ],
      "execution_count": 91,
      "outputs": []
    },
    {
      "cell_type": "code",
      "metadata": {
        "id": "ASip3IA3WMRv"
      },
      "source": [
        "cvmodel = crossval.fit(df_train)"
      ],
      "execution_count": 92,
      "outputs": []
    },
    {
      "cell_type": "code",
      "metadata": {
        "colab": {
          "base_uri": "https://localhost:8080/"
        },
        "id": "WA73DTafUJ0v",
        "outputId": "0d042d37-9ee2-4307-b038-ac824865c2ca"
      },
      "source": [
        "cvmodel.avgMetrics"
      ],
      "execution_count": 93,
      "outputs": [
        {
          "output_type": "execute_result",
          "data": {
            "text/plain": [
              "[0.583878474644168,\n",
              " 0.8664282285212588,\n",
              " 0.899893108237451,\n",
              " 0.9012214276325328,\n",
              " 0.9007723335368519,\n",
              " 0.9007513225388246]"
            ]
          },
          "metadata": {},
          "execution_count": 93
        }
      ]
    },
    {
      "cell_type": "code",
      "metadata": {
        "id": "3Jqvy46hX1WN"
      },
      "source": [
        "alphas = [1,0.1,0.01,0.001,0.0001,0.00001]"
      ],
      "execution_count": 94,
      "outputs": []
    },
    {
      "cell_type": "code",
      "metadata": {
        "colab": {
          "base_uri": "https://localhost:8080/",
          "height": 283
        },
        "id": "7ABhadY6WQmI",
        "outputId": "28f5f523-7e93-4e6e-95dd-30c84b941137"
      },
      "source": [
        "import pandas as pd \n",
        "import numpy as np \n",
        "import seaborn as sb \n",
        "%matplotlib inline\n",
        "import matplotlib.pyplot as plt \n",
        "plt.xscale('log')\n",
        "plt.xlabel(\"Alpha\" ,fontsize = 10 )\n",
        "plt.ylabel(\"R2 Metric\" ,fontsize = 10 )\n",
        "plt.xticks(fontsize = 10 ,fontweight= 500 )\n",
        "plt.yticks(fontsize = 10,fontweight= 500) \n",
        "#ax = figure.add_subplot(111)\n",
        "plt.plot(alphas ,cvmodel.avgMetrics , '-o')\n",
        "from google.colab import files\n",
        "plt.savefig(\"Lasso.png\")\n",
        "files.download(\"Lasso.png\")"
      ],
      "execution_count": null,
      "outputs": [
        {
          "output_type": "display_data",
          "data": {
            "application/javascript": [
              "\n",
              "    async function download(id, filename, size) {\n",
              "      if (!google.colab.kernel.accessAllowed) {\n",
              "        return;\n",
              "      }\n",
              "      const div = document.createElement('div');\n",
              "      const label = document.createElement('label');\n",
              "      label.textContent = `Downloading \"${filename}\": `;\n",
              "      div.appendChild(label);\n",
              "      const progress = document.createElement('progress');\n",
              "      progress.max = size;\n",
              "      div.appendChild(progress);\n",
              "      document.body.appendChild(div);\n",
              "\n",
              "      const buffers = [];\n",
              "      let downloaded = 0;\n",
              "\n",
              "      const channel = await google.colab.kernel.comms.open(id);\n",
              "      // Send a message to notify the kernel that we're ready.\n",
              "      channel.send({})\n",
              "\n",
              "      for await (const message of channel.messages) {\n",
              "        // Send a message to notify the kernel that we're ready.\n",
              "        channel.send({})\n",
              "        if (message.buffers) {\n",
              "          for (const buffer of message.buffers) {\n",
              "            buffers.push(buffer);\n",
              "            downloaded += buffer.byteLength;\n",
              "            progress.value = downloaded;\n",
              "          }\n",
              "        }\n",
              "      }\n",
              "      const blob = new Blob(buffers, {type: 'application/binary'});\n",
              "      const a = document.createElement('a');\n",
              "      a.href = window.URL.createObjectURL(blob);\n",
              "      a.download = filename;\n",
              "      div.appendChild(a);\n",
              "      a.click();\n",
              "      div.remove();\n",
              "    }\n",
              "  "
            ],
            "text/plain": [
              "<IPython.core.display.Javascript object>"
            ]
          },
          "metadata": {}
        },
        {
          "output_type": "display_data",
          "data": {
            "application/javascript": [
              "download(\"download_55487cf8-6d42-4868-872e-8c75df171204\", \"Lasso.png\", 11172)"
            ],
            "text/plain": [
              "<IPython.core.display.Javascript object>"
            ]
          },
          "metadata": {}
        },
        {
          "output_type": "display_data",
          "data": {
            "image/png": "[encoded data removed]",
            "text/plain": [
              "<Figure size 432x288 with 1 Axes>"
            ]
          },
          "metadata": {
            "needs_background": "light"
          }
        }
      ]
    },
    {
      "cell_type": "markdown",
      "metadata": {
        "id": "jZvnKU-Iq487"
      },
      "source": [
        "#### Testing Lasso Model "
      ]
    },
    {
      "cell_type": "code",
      "metadata": {
        "id": "iUSIKcfbqtXA"
      },
      "source": [
        "pred = cvmodel.transform(df_test)"
      ],
      "execution_count": null,
      "outputs": []
    },
    {
      "cell_type": "code",
      "metadata": {
        "colab": {
          "base_uri": "https://localhost:8080/"
        },
        "id": "QOAjDGiyqt0R",
        "outputId": "1e5823a3-db97-48a4-b2de-eab10047e4e0"
      },
      "source": [
        "eval =RegressionEvaluator(labelCol=\"sum(energy)\")\n",
        "r2 = eval.evaluate(pred,{eval.metricName:\"r2\"})\n",
        "r2"
      ],
      "execution_count": null,
      "outputs": [
        {
          "output_type": "execute_result",
          "data": {
            "text/plain": [
              "0.8990028555882429"
            ]
          },
          "metadata": {},
          "execution_count": 97
        }
      ]
    },
    {
      "cell_type": "markdown",
      "metadata": {
        "id": "F8qKarz9W9KP"
      },
      "source": [
        "### Ridge Regression "
      ]
    },
    {
      "cell_type": "code",
      "metadata": {
        "id": "-JvsPk1kX9hz"
      },
      "source": [
        "from pyspark.ml.regression import LinearRegression\n",
        "# elasticnetparam = 0 --> ridge regression (L2 penalty )\n",
        "lr =LinearRegression( featuresCol='poly_features_scaled', labelCol='sum(energy)',elasticNetParam=0.0)"
      ],
      "execution_count": null,
      "outputs": []
    },
    {
      "cell_type": "code",
      "metadata": {
        "id": "xm3xmYuJYAN3"
      },
      "source": [
        "pipeline = Pipeline(stages = [lr])"
      ],
      "execution_count": null,
      "outputs": []
    },
    {
      "cell_type": "code",
      "metadata": {
        "id": "RWb-1LL5YCYX"
      },
      "source": [
        "pipeline.write().overwrite().save(\"pipeline\")\n",
        "pipelineModel = Pipeline.load(\"pipeline\")"
      ],
      "execution_count": null,
      "outputs": []
    },
    {
      "cell_type": "code",
      "metadata": {
        "id": "t3E0vRlYYE1T"
      },
      "source": [
        "from pyspark.ml.evaluation import RegressionEvaluator\n",
        "evaluator = RegressionEvaluator(predictionCol='prediction', labelCol='sum(energy)', metricName='r2')"
      ],
      "execution_count": null,
      "outputs": []
    },
    {
      "cell_type": "code",
      "metadata": {
        "id": "qyesEFG3YINX"
      },
      "source": [
        "# elasticNetParam = Param(parent='undefined', name='elasticNetParam', \n",
        "#doc='the ElasticNet mixing parameter, in range [0, 1]. For alpha = 0, \n",
        "#the penalty is an L2 penalty (ridge). For alpha = 1, it is an L1 penalty. (lasso)')\n",
        "from pyspark.ml.tuning import ParamGridBuilder\n",
        "paramGrid =  ParamGridBuilder().addGrid(poly.degree,[2]).addGrid(lr.regParam, [1,0.1,0.01,0.001,0.0001,0.00001]).build()"
      ],
      "execution_count": null,
      "outputs": []
    },
    {
      "cell_type": "code",
      "metadata": {
        "id": "nMpKlnwoYKKd"
      },
      "source": [
        "crossval = CrossValidator(estimator=pipelineModel,\n",
        "                          estimatorParamMaps=paramGrid,\n",
        "                          evaluator=evaluator,\n",
        "                          numFolds=2 ,collectSubModels=True)"
      ],
      "execution_count": null,
      "outputs": []
    },
    {
      "cell_type": "code",
      "metadata": {
        "id": "6OPILLUMYQvy"
      },
      "source": [
        "## fit model \n",
        "cvmodel = crossval.fit(df_train)"
      ],
      "execution_count": null,
      "outputs": []
    },
    {
      "cell_type": "code",
      "metadata": {
        "colab": {
          "base_uri": "https://localhost:8080/"
        },
        "id": "rqtUMIERQgbn",
        "outputId": "09c419db-0c8c-49ed-9572-8fd5c53ef996"
      },
      "source": [
        "type(cvmodel)"
      ],
      "execution_count": null,
      "outputs": [
        {
          "output_type": "execute_result",
          "data": {
            "text/plain": [
              "pyspark.ml.tuning.CrossValidatorModel"
            ]
          },
          "metadata": {},
          "execution_count": 134
        }
      ]
    },
    {
      "cell_type": "code",
      "metadata": {
        "id": "1HCVR45ZzgCr"
      },
      "source": [
        "best_model = cvmodel.bestModel"
      ],
      "execution_count": null,
      "outputs": []
    },
    {
      "cell_type": "code",
      "metadata": {
        "colab": {
          "base_uri": "https://localhost:8080/"
        },
        "id": "r7NNP_awhl8q",
        "outputId": "0a5b13ee-2029-419c-e821-ad5363eee201"
      },
      "source": [
        "cvmodel.avgMetrics"
      ],
      "execution_count": null,
      "outputs": [
        {
          "output_type": "execute_result",
          "data": {
            "text/plain": [
              "[0.8694204246525716,\n",
              " 0.8980329983553721,\n",
              " 0.9016963401652787,\n",
              " 0.9021193464731789,\n",
              " 0.902137662955178,\n",
              " 0.9021372722043419]"
            ]
          },
          "metadata": {},
          "execution_count": 138
        }
      ]
    },
    {
      "cell_type": "code",
      "metadata": {
        "id": "iw8iIqcSitOP"
      },
      "source": [
        "alphas = [1,0.1,0.01,0.001,0.0001,0.00001]"
      ],
      "execution_count": null,
      "outputs": []
    },
    {
      "cell_type": "code",
      "metadata": {
        "colab": {
          "base_uri": "https://localhost:8080/",
          "height": 283
        },
        "id": "KFAkJIQ3i3Na",
        "outputId": "990c0dcf-43cd-4c7d-f9c8-1498c4335d3e"
      },
      "source": [
        "import pandas as pd \n",
        "import numpy as np \n",
        "import seaborn as sb \n",
        "%matplotlib inline\n",
        "import matplotlib.pyplot as plt \n",
        "plt.xscale('log')\n",
        "plt.xlabel(\"Alpha\" ,fontsize = 10 )\n",
        "plt.ylabel(\"R2 Metric\" ,fontsize = 10 )\n",
        "plt.xticks(fontsize = 10 ,fontweight= 500 )\n",
        "plt.yticks(fontsize = 10,fontweight= 500) \n",
        "#ax = figure.add_subplot(111)\n",
        "plt.plot(alphas ,cvmodel.avgMetrics , '-o')\n",
        "from google.colab import files\n",
        "plt.savefig(\"ridge.png\")\n",
        "files.download(\"ridge.png\") "
      ],
      "execution_count": null,
      "outputs": [
        {
          "output_type": "display_data",
          "data": {
            "application/javascript": [
              "\n",
              "    async function download(id, filename, size) {\n",
              "      if (!google.colab.kernel.accessAllowed) {\n",
              "        return;\n",
              "      }\n",
              "      const div = document.createElement('div');\n",
              "      const label = document.createElement('label');\n",
              "      label.textContent = `Downloading \"${filename}\": `;\n",
              "      div.appendChild(label);\n",
              "      const progress = document.createElement('progress');\n",
              "      progress.max = size;\n",
              "      div.appendChild(progress);\n",
              "      document.body.appendChild(div);\n",
              "\n",
              "      const buffers = [];\n",
              "      let downloaded = 0;\n",
              "\n",
              "      const channel = await google.colab.kernel.comms.open(id);\n",
              "      // Send a message to notify the kernel that we're ready.\n",
              "      channel.send({})\n",
              "\n",
              "      for await (const message of channel.messages) {\n",
              "        // Send a message to notify the kernel that we're ready.\n",
              "        channel.send({})\n",
              "        if (message.buffers) {\n",
              "          for (const buffer of message.buffers) {\n",
              "            buffers.push(buffer);\n",
              "            downloaded += buffer.byteLength;\n",
              "            progress.value = downloaded;\n",
              "          }\n",
              "        }\n",
              "      }\n",
              "      const blob = new Blob(buffers, {type: 'application/binary'});\n",
              "      const a = document.createElement('a');\n",
              "      a.href = window.URL.createObjectURL(blob);\n",
              "      a.download = filename;\n",
              "      div.appendChild(a);\n",
              "      a.click();\n",
              "      div.remove();\n",
              "    }\n",
              "  "
            ],
            "text/plain": [
              "<IPython.core.display.Javascript object>"
            ]
          },
          "metadata": {}
        },
        {
          "output_type": "display_data",
          "data": {
            "application/javascript": [
              "download(\"download_4b815248-2b07-4209-8e62-c6a268295507\", \"ridge.png\", 12302)"
            ],
            "text/plain": [
              "<IPython.core.display.Javascript object>"
            ]
          },
          "metadata": {}
        },
        {
          "output_type": "display_data",
          "data": {
            "image/png": "[encoded data removed]",
            "text/plain": [
              "<Figure size 432x288 with 1 Axes>"
            ]
          },
          "metadata": {
            "needs_background": "light"
          }
        }
      ]
    },
    {
      "cell_type": "code",
      "metadata": {
        "colab": {
          "base_uri": "https://localhost:8080/"
        },
        "id": "ZbwSNHNFzlG0",
        "outputId": "d27b7f53-e066-497a-a4e2-d1a1b5ca8585"
      },
      "source": [
        "print(cvmodel.getEstimatorParamMaps()[np.argmax(cvmodel.avgMetrics)])"
      ],
      "execution_count": null,
      "outputs": [
        {
          "name": "stdout",
          "output_type": "stream",
          "text": [
            "{Param(parent='PolynomialExpansion_306277c03bd3', name='degree', doc='the polynomial degree to expand (>= 1)'): 2, Param(parent='LinearRegression_0b0cce662a9b', name='regParam', doc='regularization parameter (>= 0).'): 1e-05}\n"
          ]
        }
      ]
    },
    {
      "cell_type": "markdown",
      "metadata": {
        "id": "SHou77SyrNgl"
      },
      "source": [
        "## Evaluating dToU for Low Tariff:  "
      ]
    },
    {
      "cell_type": "code",
      "metadata": {
        "id": "8WhDR35ZKcqJ"
      },
      "source": [
        "df_low_tariff = df_low_tariff.na.drop()"
      ],
      "execution_count": 95,
      "outputs": []
    },
    {
      "cell_type": "code",
      "metadata": {
        "colab": {
          "base_uri": "https://localhost:8080/"
        },
        "id": "aIvU1epI9jXF",
        "outputId": "32b5eba8-f065-4042-abdd-b994d3381f75"
      },
      "source": [
        "df_low_tariff.show(2)"
      ],
      "execution_count": 96,
      "outputs": [
        {
          "output_type": "stream",
          "name": "stdout",
          "text": [
            "+------------------+------+-------------------+------------+---------+-----------+--------+-----+--------+\n",
            "|       sum(energy)|Tariff|     TariffDateTime|count(LCLid)|day_night|temperature|humidity|hour2|week_end|\n",
            "+------------------+------+-------------------+------------+---------+-----------+--------+-----+--------+\n",
            "| 8.244000058621168|   Low|2013-02-21 03:00:00|          46|        0|       1.29|    0.63|    3|       0|\n",
            "|12.416999971028417|   Low|2013-09-13 13:00:00|          44|        1|      17.16|    0.92|   13|       0|\n",
            "+------------------+------+-------------------+------------+---------+-----------+--------+-----+--------+\n",
            "only showing top 2 rows\n",
            "\n"
          ]
        }
      ]
    },
    {
      "cell_type": "code",
      "metadata": {
        "colab": {
          "base_uri": "https://localhost:8080/"
        },
        "id": "5ew0b3M89mGF",
        "outputId": "254d986f-aa99-4fe1-c73b-a4d8a795df7f"
      },
      "source": [
        "df_low_tariff.count()"
      ],
      "execution_count": 97,
      "outputs": [
        {
          "output_type": "execute_result",
          "data": {
            "text/plain": [
              "829"
            ]
          },
          "metadata": {},
          "execution_count": 97
        }
      ]
    },
    {
      "cell_type": "code",
      "metadata": {
        "id": "1Kvg-ti-9opo"
      },
      "source": [
        "from pyspark.ml.feature import OneHotEncoder\n",
        "stages = []\n",
        "column_list = ['hour2' ,'week_end','day_night']\n",
        "for column in column_list :\n",
        "  encoder = OneHotEncoder(inputCol=column, outputCol=column+\"_encoded\")\n",
        "  stages.append(encoder)\n",
        "pipeline = Pipeline(stages = stages )\n",
        "df_encoded_low_tariff = pipeline.fit(df_low_tariff).transform(df_low_tariff)  "
      ],
      "execution_count": 98,
      "outputs": []
    },
    {
      "cell_type": "code",
      "metadata": {
        "colab": {
          "base_uri": "https://localhost:8080/"
        },
        "id": "jNvvhOZA98XN",
        "outputId": "f9124927-4ea7-479e-9d04-98bafe11310b"
      },
      "source": [
        "from pyspark.ml.linalg import Vectors\n",
        "from pyspark.ml.feature import VectorAssembler\n",
        "vector_assembler = VectorAssembler(inputCols = ['hour2_encoded','temperature' ,'humidity','week_end_encoded','day_night_encoded','count(LCLid)'] \n",
        "                                   ,outputCol = 'features_vector')\n",
        "df_encoded_low_tariff = vector_assembler.transform(df_encoded_low_tariff)\n",
        "df_encoded_low_tariff.show(3)"
      ],
      "execution_count": 99,
      "outputs": [
        {
          "output_type": "stream",
          "name": "stdout",
          "text": [
            "+------------------+------+-------------------+------------+---------+-----------+--------+-----+--------+---------------+----------------+-----------------+--------------------+\n",
            "|       sum(energy)|Tariff|     TariffDateTime|count(LCLid)|day_night|temperature|humidity|hour2|week_end|  hour2_encoded|week_end_encoded|day_night_encoded|     features_vector|\n",
            "+------------------+------+-------------------+------------+---------+-----------+--------+-----+--------+---------------+----------------+-----------------+--------------------+\n",
            "| 8.244000058621168|   Low|2013-02-21 03:00:00|          46|        0|       1.29|    0.63|    3|       0| (23,[3],[1.0])|   (1,[0],[1.0])|    (2,[0],[1.0])|(29,[3,23,24,25,2...|\n",
            "|12.416999971028417|   Low|2013-09-13 13:00:00|          44|        1|      17.16|    0.92|   13|       0|(23,[13],[1.0])|   (1,[0],[1.0])|    (2,[1],[1.0])|(29,[13,23,24,25,...|\n",
            "|11.878000056371093|   Low|2013-11-26 15:00:00|          44|        1|       7.23|    0.64|   15|       0|(23,[15],[1.0])|   (1,[0],[1.0])|    (2,[1],[1.0])|(29,[15,23,24,25,...|\n",
            "+------------------+------+-------------------+------------+---------+-----------+--------+-----+--------+---------------+----------------+-----------------+--------------------+\n",
            "only showing top 3 rows\n",
            "\n"
          ]
        }
      ]
    },
    {
      "cell_type": "code",
      "metadata": {
        "id": "mB7xM3W--I1s"
      },
      "source": [
        "from pyspark.ml import Pipeline\n",
        "# expansion parameters \n",
        "from pyspark.ml.feature import PolynomialExpansion\n",
        "poly = PolynomialExpansion(inputCol='features_vector', outputCol='poly_features')\n",
        "df_encoded_low_tariff = poly.transform(df_encoded_low_tariff)"
      ],
      "execution_count": 100,
      "outputs": []
    },
    {
      "cell_type": "code",
      "metadata": {
        "id": "m-pHbkbj-Ucy"
      },
      "source": [
        "ss = StandardScaler(withMean=True, withStd=True, inputCol='poly_features' , outputCol='poly_features_scaled')"
      ],
      "execution_count": 101,
      "outputs": []
    },
    {
      "cell_type": "code",
      "metadata": {
        "id": "hP0w6x3C-bo8"
      },
      "source": [
        "df_encoded_low_tariff = ss.fit(df_encoded_low_tariff).transform(df_encoded_low_tariff)"
      ],
      "execution_count": 102,
      "outputs": []
    },
    {
      "cell_type": "code",
      "metadata": {
        "colab": {
          "base_uri": "https://localhost:8080/"
        },
        "id": "jboIZjXp-hak",
        "outputId": "740c395a-68bc-4be8-93d8-2de15464a080"
      },
      "source": [
        "df_encoded_low_tariff.show(2)"
      ],
      "execution_count": 103,
      "outputs": [
        {
          "output_type": "stream",
          "name": "stdout",
          "text": [
            "+------------------+------+-------------------+------------+---------+-----------+--------+-----+--------+---------------+----------------+-----------------+--------------------+--------------------+--------------------+\n",
            "|       sum(energy)|Tariff|     TariffDateTime|count(LCLid)|day_night|temperature|humidity|hour2|week_end|  hour2_encoded|week_end_encoded|day_night_encoded|     features_vector|       poly_features|poly_features_scaled|\n",
            "+------------------+------+-------------------+------------+---------+-----------+--------+-----+--------+---------------+----------------+-----------------+--------------------+--------------------+--------------------+\n",
            "| 8.244000058621168|   Low|2013-02-21 03:00:00|          46|        0|       1.29|    0.63|    3|       0| (23,[3],[1.0])|   (1,[0],[1.0])|    (2,[0],[1.0])|(29,[3,23,24,25,2...|(464,[9,13,299,30...|[-0.2220530081768...|\n",
            "|12.416999971028417|   Low|2013-09-13 13:00:00|          44|        1|      17.16|    0.92|   13|       0|(23,[13],[1.0])|   (1,[0],[1.0])|    (2,[1],[1.0])|(29,[13,23,24,25,...|(464,[104,118,299...|[-0.2220530081768...|\n",
            "+------------------+------+-------------------+------------+---------+-----------+--------+-----+--------+---------------+----------------+-----------------+--------------------+--------------------+--------------------+\n",
            "only showing top 2 rows\n",
            "\n"
          ]
        }
      ]
    },
    {
      "cell_type": "code",
      "metadata": {
        "colab": {
          "base_uri": "https://localhost:8080/"
        },
        "id": "BptO2uG6AhwG",
        "outputId": "5fa21452-9d4b-41a9-adaf-afe957b3d56e"
      },
      "source": [
        "df_test.show(2)"
      ],
      "execution_count": 104,
      "outputs": [
        {
          "output_type": "stream",
          "name": "stdout",
          "text": [
            "+-----------------+------------+---------+-----------+--------+-----+--------+---------------+----------------+-----------------+--------------------+--------------------+--------------------+\n",
            "|      sum(energy)|count(LCLid)|day_night|temperature|humidity|hour2|week_end|  hour2_encoded|week_end_encoded|day_night_encoded|     features_vector|       poly_features|poly_features_scaled|\n",
            "+-----------------+------------+---------+-----------+--------+-----+--------+---------------+----------------+-----------------+--------------------+--------------------+--------------------+\n",
            "|6.488999990746379|          45|        0|      16.34|    0.59|    1|       0| (23,[1],[1.0])|   (1,[0],[1.0])|    (2,[0],[1.0])|(29,[1,23,24,25,2...|(464,[2,4,299,301...|[-0.2086540978079...|\n",
            "|7.723999971523881|          44|        1|      11.97|    0.93|   10|       1|(23,[10],[1.0])|       (1,[],[])|    (2,[1],[1.0])|(29,[10,23,24,27,...|(464,[65,76,299,3...|[-0.2086540978079...|\n",
            "+-----------------+------------+---------+-----------+--------+-----+--------+---------------+----------------+-----------------+--------------------+--------------------+--------------------+\n",
            "only showing top 2 rows\n",
            "\n"
          ]
        }
      ]
    },
    {
      "cell_type": "code",
      "metadata": {
        "id": "rgmntLI0AlqJ"
      },
      "source": [
        "predictions_low = cvmodel.transform(df_encoded_low_tariff)"
      ],
      "execution_count": 105,
      "outputs": []
    },
    {
      "cell_type": "code",
      "metadata": {
        "colab": {
          "base_uri": "https://localhost:8080/"
        },
        "id": "01_BL_QzBK3k",
        "outputId": "cd260ec5-a876-4ed5-cf00-d51dc41e1747"
      },
      "source": [
        "# r2 \n",
        "eval =RegressionEvaluator(labelCol=\"sum(energy)\")\n",
        "r2 = eval.evaluate(predictions_low,{eval.metricName:\"r2\"})\n",
        "r2"
      ],
      "execution_count": 106,
      "outputs": [
        {
          "output_type": "execute_result",
          "data": {
            "text/plain": [
              "0.07517035092743174"
            ]
          },
          "metadata": {},
          "execution_count": 106
        }
      ]
    },
    {
      "cell_type": "code",
      "metadata": {
        "colab": {
          "base_uri": "https://localhost:8080/"
        },
        "id": "S7Ca8kjpA8WN",
        "outputId": "b642cd6a-144b-4cd5-b8bf-7d9b43d6f9a6"
      },
      "source": [
        "predictions_low.show(2)"
      ],
      "execution_count": 107,
      "outputs": [
        {
          "output_type": "stream",
          "name": "stdout",
          "text": [
            "+------------------+------+-------------------+------------+---------+-----------+--------+-----+--------+---------------+----------------+-----------------+--------------------+--------------------+--------------------+------------------+\n",
            "|       sum(energy)|Tariff|     TariffDateTime|count(LCLid)|day_night|temperature|humidity|hour2|week_end|  hour2_encoded|week_end_encoded|day_night_encoded|     features_vector|       poly_features|poly_features_scaled|        prediction|\n",
            "+------------------+------+-------------------+------------+---------+-----------+--------+-----+--------+---------------+----------------+-----------------+--------------------+--------------------+--------------------+------------------+\n",
            "| 8.244000058621168|   Low|2013-02-21 03:00:00|          46|        0|       1.29|    0.63|    3|       0| (23,[3],[1.0])|   (1,[0],[1.0])|    (2,[0],[1.0])|(29,[3,23,24,25,2...|(464,[9,13,299,30...|[-0.2220530081768...|10.249433793194708|\n",
            "|12.416999971028417|   Low|2013-09-13 13:00:00|          44|        1|      17.16|    0.92|   13|       0|(23,[13],[1.0])|   (1,[0],[1.0])|    (2,[1],[1.0])|(29,[13,23,24,25,...|(464,[104,118,299...|[-0.2220530081768...| 4.979070703734282|\n",
            "+------------------+------+-------------------+------------+---------+-----------+--------+-----+--------+---------------+----------------+-----------------+--------------------+--------------------+--------------------+------------------+\n",
            "only showing top 2 rows\n",
            "\n"
          ]
        }
      ]
    },
    {
      "cell_type": "code",
      "metadata": {
        "id": "hYZqRfRQBoC5"
      },
      "source": [
        "predictions_low_pandas= predictions_low.toPandas()"
      ],
      "execution_count": 108,
      "outputs": []
    },
    {
      "cell_type": "code",
      "metadata": {
        "id": "lrFJslXzCYNs"
      },
      "source": [
        "predictions_low_pandas.to_csv(\"/content/drive/MyDrive/predictions_low.csv\")"
      ],
      "execution_count": 109,
      "outputs": []
    },
    {
      "cell_type": "markdown",
      "metadata": {
        "id": "-HB9ZMRY-v3i"
      },
      "source": [
        "## Evaluating dToU for High Tariff:  "
      ]
    },
    {
      "cell_type": "code",
      "metadata": {
        "id": "aaNoz_ow-urS"
      },
      "source": [
        "df_high_tariff = df_high_tariff.na.drop()"
      ],
      "execution_count": 110,
      "outputs": []
    },
    {
      "cell_type": "code",
      "metadata": {
        "id": "1YkEMTaO8RZs",
        "colab": {
          "base_uri": "https://localhost:8080/"
        },
        "outputId": "e4be2f08-146b-4f76-a58e-4f7ef41c36c9"
      },
      "source": [
        "df_high_tariff.count()"
      ],
      "execution_count": 111,
      "outputs": [
        {
          "output_type": "execute_result",
          "data": {
            "text/plain": [
              "394"
            ]
          },
          "metadata": {},
          "execution_count": 111
        }
      ]
    },
    {
      "cell_type": "code",
      "metadata": {
        "colab": {
          "base_uri": "https://localhost:8080/"
        },
        "id": "7N3dCXXeC3dK",
        "outputId": "0b208ca2-c7f4-4cf2-f3c0-ccd3eb649e85"
      },
      "source": [
        "df_high_tariff.show(2)"
      ],
      "execution_count": 112,
      "outputs": [
        {
          "output_type": "stream",
          "name": "stdout",
          "text": [
            "+------------------+------+-------------------+------------+---------+-----------+--------+-----+--------+\n",
            "|       sum(energy)|Tariff|     TariffDateTime|count(LCLid)|day_night|temperature|humidity|hour2|week_end|\n",
            "+------------------+------+-------------------+------------+---------+-----------+--------+-----+--------+\n",
            "|13.790999963879585|  High|2013-06-17 11:00:00|          45|        1|      17.54|    0.61|   11|       0|\n",
            "|23.072999991476536|  High|2013-12-15 20:00:00|          44|        2|      12.42|    0.91|   20|       1|\n",
            "+------------------+------+-------------------+------------+---------+-----------+--------+-----+--------+\n",
            "only showing top 2 rows\n",
            "\n"
          ]
        }
      ]
    },
    {
      "cell_type": "code",
      "metadata": {
        "id": "V7O7XxL98Rev"
      },
      "source": [
        "from pyspark.ml.feature import OneHotEncoder\n",
        "stages = []\n",
        "column_list = ['hour2' ,'week_end','day_night']\n",
        "for column in column_list :\n",
        "  encoder = OneHotEncoder(inputCol=column, outputCol=column+\"_encoded\")\n",
        "  stages.append(encoder)\n",
        "pipeline = Pipeline(stages = stages )\n",
        "df_encoded_high_tariff = pipeline.fit(df_high_tariff).transform(df_high_tariff) "
      ],
      "execution_count": 113,
      "outputs": []
    },
    {
      "cell_type": "code",
      "metadata": {
        "id": "fdNErXre5y-7",
        "colab": {
          "base_uri": "https://localhost:8080/"
        },
        "outputId": "ef219521-554a-40ba-ca8c-efdfd4a7c3b4"
      },
      "source": [
        "from pyspark.ml.linalg import Vectors\n",
        "from pyspark.ml.feature import VectorAssembler\n",
        "vector_assembler = VectorAssembler(inputCols = ['hour2_encoded','temperature' ,'humidity','week_end_encoded','day_night_encoded','count(LCLid)'] \n",
        "                                   ,outputCol = 'features_vector')\n",
        "df_encoded_high_tariff = vector_assembler.transform(df_encoded_high_tariff)\n",
        "df_encoded_high_tariff.show(3)"
      ],
      "execution_count": 114,
      "outputs": [
        {
          "output_type": "stream",
          "name": "stdout",
          "text": [
            "+------------------+------+-------------------+------------+---------+-----------+--------+-----+--------+---------------+----------------+-----------------+--------------------+\n",
            "|       sum(energy)|Tariff|     TariffDateTime|count(LCLid)|day_night|temperature|humidity|hour2|week_end|  hour2_encoded|week_end_encoded|day_night_encoded|     features_vector|\n",
            "+------------------+------+-------------------+------------+---------+-----------+--------+-----+--------+---------------+----------------+-----------------+--------------------+\n",
            "|13.790999963879585|  High|2013-06-17 11:00:00|          45|        1|      17.54|    0.61|   11|       0|(23,[11],[1.0])|   (1,[0],[1.0])|    (2,[1],[1.0])|(29,[11,23,24,25,...|\n",
            "|23.072999991476536|  High|2013-12-15 20:00:00|          44|        2|      12.42|    0.91|   20|       1|(23,[20],[1.0])|       (1,[],[])|        (2,[],[])|(29,[20,23,24,28]...|\n",
            "|18.111000057309866|  High|2013-12-27 22:00:00|          43|        2|       7.47|    0.73|   22|       0|(23,[22],[1.0])|   (1,[0],[1.0])|        (2,[],[])|(29,[22,23,24,25,...|\n",
            "+------------------+------+-------------------+------------+---------+-----------+--------+-----+--------+---------------+----------------+-----------------+--------------------+\n",
            "only showing top 3 rows\n",
            "\n"
          ]
        }
      ]
    },
    {
      "cell_type": "code",
      "metadata": {
        "id": "2NKGj40w_KVi"
      },
      "source": [
        "from pyspark.ml import Pipeline\n",
        "# expansion parameters \n",
        "from pyspark.ml.feature import PolynomialExpansion\n",
        "poly = PolynomialExpansion(inputCol='features_vector', outputCol='poly_features')\n",
        "df_encoded_high_tariff = poly.transform(df_encoded_high_tariff)"
      ],
      "execution_count": 115,
      "outputs": []
    },
    {
      "cell_type": "code",
      "metadata": {
        "id": "g01WVXqP_NuD"
      },
      "source": [
        "ss = StandardScaler(withMean=True, withStd=True, inputCol='poly_features' , outputCol='poly_features_scaled')"
      ],
      "execution_count": 116,
      "outputs": []
    },
    {
      "cell_type": "code",
      "metadata": {
        "id": "hl9MdDzU_VTQ"
      },
      "source": [
        "df_encoded_high_tariff = ss.fit(df_encoded_high_tariff).transform(df_encoded_high_tariff)"
      ],
      "execution_count": 117,
      "outputs": []
    },
    {
      "cell_type": "code",
      "metadata": {
        "colab": {
          "base_uri": "https://localhost:8080/"
        },
        "id": "nZEF_896_aa_",
        "outputId": "69fadaf0-332e-4de7-ae39-0dc857907b13"
      },
      "source": [
        "df_encoded_high_tariff.show(2)"
      ],
      "execution_count": 118,
      "outputs": [
        {
          "output_type": "stream",
          "name": "stdout",
          "text": [
            "+------------------+------+-------------------+------------+---------+-----------+--------+-----+--------+---------------+----------------+-----------------+--------------------+--------------------+--------------------+\n",
            "|       sum(energy)|Tariff|     TariffDateTime|count(LCLid)|day_night|temperature|humidity|hour2|week_end|  hour2_encoded|week_end_encoded|day_night_encoded|     features_vector|       poly_features|poly_features_scaled|\n",
            "+------------------+------+-------------------+------------+---------+-----------+--------+-----+--------+---------------+----------------+-----------------+--------------------+--------------------+--------------------+\n",
            "|13.790999963879585|  High|2013-06-17 11:00:00|          45|        1|      17.54|    0.61|   11|       0|(23,[11],[1.0])|   (1,[0],[1.0])|    (2,[1],[1.0])|(29,[11,23,24,25,...|(464,[77,89,299,3...|[-0.1527000060419...|\n",
            "|23.072999991476536|  High|2013-12-15 20:00:00|          44|        2|      12.42|    0.91|   20|       1|(23,[20],[1.0])|       (1,[],[])|        (2,[],[])|(29,[20,23,24,28]...|(464,[230,251,299...|[-0.1527000060419...|\n",
            "+------------------+------+-------------------+------------+---------+-----------+--------+-----+--------+---------------+----------------+-----------------+--------------------+--------------------+--------------------+\n",
            "only showing top 2 rows\n",
            "\n"
          ]
        }
      ]
    },
    {
      "cell_type": "code",
      "metadata": {
        "id": "7yqcg3hPDEim"
      },
      "source": [
        "predictions_high = cvmodel.transform(df_encoded_high_tariff)"
      ],
      "execution_count": 119,
      "outputs": []
    },
    {
      "cell_type": "code",
      "metadata": {
        "colab": {
          "base_uri": "https://localhost:8080/"
        },
        "id": "bs38MuvbEH5Y",
        "outputId": "f6ed690f-ee03-49a4-b5a2-3a47ed1753bc"
      },
      "source": [
        "# r2 \n",
        "eval =RegressionEvaluator(labelCol=\"sum(energy)\")\n",
        "r2 = eval.evaluate(predictions_high,{eval.metricName:\"r2\"})\n",
        "r2"
      ],
      "execution_count": 120,
      "outputs": [
        {
          "output_type": "execute_result",
          "data": {
            "text/plain": [
              "-0.03675988849942935"
            ]
          },
          "metadata": {},
          "execution_count": 120
        }
      ]
    },
    {
      "cell_type": "code",
      "metadata": {
        "colab": {
          "base_uri": "https://localhost:8080/"
        },
        "id": "xd9DI-hQEQ5R",
        "outputId": "dcc6e5e5-77ce-485a-dfdf-93fc7373f31a"
      },
      "source": [
        "predictions_high.show(2)"
      ],
      "execution_count": 121,
      "outputs": [
        {
          "output_type": "stream",
          "name": "stdout",
          "text": [
            "+------------------+------+-------------------+------------+---------+-----------+--------+-----+--------+---------------+----------------+-----------------+--------------------+--------------------+--------------------+-----------------+\n",
            "|       sum(energy)|Tariff|     TariffDateTime|count(LCLid)|day_night|temperature|humidity|hour2|week_end|  hour2_encoded|week_end_encoded|day_night_encoded|     features_vector|       poly_features|poly_features_scaled|       prediction|\n",
            "+------------------+------+-------------------+------------+---------+-----------+--------+-----+--------+---------------+----------------+-----------------+--------------------+--------------------+--------------------+-----------------+\n",
            "|13.790999963879585|  High|2013-06-17 11:00:00|          45|        1|      17.54|    0.61|   11|       0|(23,[11],[1.0])|   (1,[0],[1.0])|    (2,[1],[1.0])|(29,[11,23,24,25,...|(464,[77,89,299,3...|[-0.1527000060419...| 6.69108820880484|\n",
            "|23.072999991476536|  High|2013-12-15 20:00:00|          44|        2|      12.42|    0.91|   20|       1|(23,[20],[1.0])|       (1,[],[])|        (2,[],[])|(29,[20,23,24,28]...|(464,[230,251,299...|[-0.1527000060419...|9.386407577263268|\n",
            "+------------------+------+-------------------+------------+---------+-----------+--------+-----+--------+---------------+----------------+-----------------+--------------------+--------------------+--------------------+-----------------+\n",
            "only showing top 2 rows\n",
            "\n"
          ]
        }
      ]
    },
    {
      "cell_type": "code",
      "metadata": {
        "id": "NlOcJYTMEYaK"
      },
      "source": [
        "predictions_high_pandas= predictions_high.toPandas()"
      ],
      "execution_count": 122,
      "outputs": []
    },
    {
      "cell_type": "code",
      "metadata": {
        "id": "BA2y2r_vEcA-"
      },
      "source": [
        "predictions_high_pandas.to_csv(\"/content/drive/MyDrive/predictions_high.csv\")"
      ],
      "execution_count": 123,
      "outputs": []
    },
    {
      "cell_type": "code",
      "metadata": {
        "id": "t1SaK8S6Yc34"
      },
      "source": [
        ""
      ],
      "execution_count": 123,
      "outputs": []
    }
  ]
}